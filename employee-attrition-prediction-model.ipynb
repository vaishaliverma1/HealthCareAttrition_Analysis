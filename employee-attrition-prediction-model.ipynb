{
 "cells": [
  {
   "cell_type": "markdown",
   "id": "ded3b383",
   "metadata": {
    "papermill": {
     "duration": 0.0069,
     "end_time": "2023-03-19T20:20:13.090431",
     "exception": false,
     "start_time": "2023-03-19T20:20:13.083531",
     "status": "completed"
    },
    "tags": []
   },
   "source": [
    "# Healthcare Employee EDA and Attrition predictior model\n",
    "* Attrition: Whether an employee left or not\n",
    "* Main Goal: Build a model to predict the employee attrition based on different factors\n",
    "# Steps:\n",
    "1. Data wranggling\n",
    "2. EDA\n",
    "3. Model building and Testing"
   ]
  },
  {
   "cell_type": "code",
   "execution_count": 2,
   "id": "b781ab77",
   "metadata": {
    "execution": {
     "iopub.execute_input": "2023-03-19T20:20:13.104151Z",
     "iopub.status.busy": "2023-03-19T20:20:13.103658Z",
     "iopub.status.idle": "2023-03-19T20:20:14.067169Z",
     "shell.execute_reply": "2023-03-19T20:20:14.066259Z"
    },
    "papermill": {
     "duration": 0.97352,
     "end_time": "2023-03-19T20:20:14.069916",
     "exception": false,
     "start_time": "2023-03-19T20:20:13.096396",
     "status": "completed"
    },
    "tags": []
   },
   "outputs": [],
   "source": [
    "#import libraries\n",
    "import pandas as pd\n",
    "import matplotlib.pyplot as plt\n",
    "import seaborn as sns\n",
    "\n",
    "df = pd.read_csv(r\"C:\\Users\\aarya\\Downloads\\watson_healthcare_modified.csv\")"
   ]
  },
  {
   "cell_type": "code",
   "execution_count": 3,
   "id": "1256073a",
   "metadata": {
    "execution": {
     "iopub.execute_input": "2023-03-19T20:20:14.083790Z",
     "iopub.status.busy": "2023-03-19T20:20:14.083145Z",
     "iopub.status.idle": "2023-03-19T20:20:14.124231Z",
     "shell.execute_reply": "2023-03-19T20:20:14.123244Z"
    },
    "papermill": {
     "duration": 0.050581,
     "end_time": "2023-03-19T20:20:14.126682",
     "exception": false,
     "start_time": "2023-03-19T20:20:14.076101",
     "status": "completed"
    },
    "scrolled": true,
    "tags": []
   },
   "outputs": [
    {
     "data": {
      "text/html": [
       "<div>\n",
       "<style scoped>\n",
       "    .dataframe tbody tr th:only-of-type {\n",
       "        vertical-align: middle;\n",
       "    }\n",
       "\n",
       "    .dataframe tbody tr th {\n",
       "        vertical-align: top;\n",
       "    }\n",
       "\n",
       "    .dataframe thead th {\n",
       "        text-align: right;\n",
       "    }\n",
       "</style>\n",
       "<table border=\"1\" class=\"dataframe\">\n",
       "  <thead>\n",
       "    <tr style=\"text-align: right;\">\n",
       "      <th></th>\n",
       "      <th>EmployeeID</th>\n",
       "      <th>Age</th>\n",
       "      <th>Attrition</th>\n",
       "      <th>BusinessTravel</th>\n",
       "      <th>DailyRate</th>\n",
       "      <th>Department</th>\n",
       "      <th>DistanceFromHome</th>\n",
       "      <th>Education</th>\n",
       "      <th>EducationField</th>\n",
       "      <th>EmployeeCount</th>\n",
       "      <th>...</th>\n",
       "      <th>RelationshipSatisfaction</th>\n",
       "      <th>StandardHours</th>\n",
       "      <th>Shift</th>\n",
       "      <th>TotalWorkingYears</th>\n",
       "      <th>TrainingTimesLastYear</th>\n",
       "      <th>WorkLifeBalance</th>\n",
       "      <th>YearsAtCompany</th>\n",
       "      <th>YearsInCurrentRole</th>\n",
       "      <th>YearsSinceLastPromotion</th>\n",
       "      <th>YearsWithCurrManager</th>\n",
       "    </tr>\n",
       "  </thead>\n",
       "  <tbody>\n",
       "    <tr>\n",
       "      <th>0</th>\n",
       "      <td>1313919</td>\n",
       "      <td>41</td>\n",
       "      <td>No</td>\n",
       "      <td>Travel_Rarely</td>\n",
       "      <td>1102</td>\n",
       "      <td>Cardiology</td>\n",
       "      <td>1</td>\n",
       "      <td>2</td>\n",
       "      <td>Life Sciences</td>\n",
       "      <td>1</td>\n",
       "      <td>...</td>\n",
       "      <td>1</td>\n",
       "      <td>80</td>\n",
       "      <td>0</td>\n",
       "      <td>8</td>\n",
       "      <td>0</td>\n",
       "      <td>1</td>\n",
       "      <td>6</td>\n",
       "      <td>4</td>\n",
       "      <td>0</td>\n",
       "      <td>5</td>\n",
       "    </tr>\n",
       "    <tr>\n",
       "      <th>1</th>\n",
       "      <td>1200302</td>\n",
       "      <td>49</td>\n",
       "      <td>No</td>\n",
       "      <td>Travel_Frequently</td>\n",
       "      <td>279</td>\n",
       "      <td>Maternity</td>\n",
       "      <td>8</td>\n",
       "      <td>1</td>\n",
       "      <td>Life Sciences</td>\n",
       "      <td>1</td>\n",
       "      <td>...</td>\n",
       "      <td>4</td>\n",
       "      <td>80</td>\n",
       "      <td>1</td>\n",
       "      <td>10</td>\n",
       "      <td>3</td>\n",
       "      <td>3</td>\n",
       "      <td>10</td>\n",
       "      <td>7</td>\n",
       "      <td>1</td>\n",
       "      <td>7</td>\n",
       "    </tr>\n",
       "    <tr>\n",
       "      <th>2</th>\n",
       "      <td>1060315</td>\n",
       "      <td>37</td>\n",
       "      <td>Yes</td>\n",
       "      <td>Travel_Rarely</td>\n",
       "      <td>1373</td>\n",
       "      <td>Maternity</td>\n",
       "      <td>2</td>\n",
       "      <td>2</td>\n",
       "      <td>Other</td>\n",
       "      <td>1</td>\n",
       "      <td>...</td>\n",
       "      <td>2</td>\n",
       "      <td>80</td>\n",
       "      <td>0</td>\n",
       "      <td>7</td>\n",
       "      <td>3</td>\n",
       "      <td>3</td>\n",
       "      <td>0</td>\n",
       "      <td>0</td>\n",
       "      <td>0</td>\n",
       "      <td>0</td>\n",
       "    </tr>\n",
       "    <tr>\n",
       "      <th>3</th>\n",
       "      <td>1272912</td>\n",
       "      <td>33</td>\n",
       "      <td>No</td>\n",
       "      <td>Travel_Frequently</td>\n",
       "      <td>1392</td>\n",
       "      <td>Maternity</td>\n",
       "      <td>3</td>\n",
       "      <td>4</td>\n",
       "      <td>Life Sciences</td>\n",
       "      <td>1</td>\n",
       "      <td>...</td>\n",
       "      <td>3</td>\n",
       "      <td>80</td>\n",
       "      <td>0</td>\n",
       "      <td>8</td>\n",
       "      <td>3</td>\n",
       "      <td>3</td>\n",
       "      <td>8</td>\n",
       "      <td>7</td>\n",
       "      <td>3</td>\n",
       "      <td>0</td>\n",
       "    </tr>\n",
       "    <tr>\n",
       "      <th>4</th>\n",
       "      <td>1414939</td>\n",
       "      <td>27</td>\n",
       "      <td>No</td>\n",
       "      <td>Travel_Rarely</td>\n",
       "      <td>591</td>\n",
       "      <td>Maternity</td>\n",
       "      <td>2</td>\n",
       "      <td>1</td>\n",
       "      <td>Medical</td>\n",
       "      <td>1</td>\n",
       "      <td>...</td>\n",
       "      <td>4</td>\n",
       "      <td>80</td>\n",
       "      <td>1</td>\n",
       "      <td>6</td>\n",
       "      <td>3</td>\n",
       "      <td>3</td>\n",
       "      <td>2</td>\n",
       "      <td>2</td>\n",
       "      <td>2</td>\n",
       "      <td>2</td>\n",
       "    </tr>\n",
       "    <tr>\n",
       "      <th>...</th>\n",
       "      <td>...</td>\n",
       "      <td>...</td>\n",
       "      <td>...</td>\n",
       "      <td>...</td>\n",
       "      <td>...</td>\n",
       "      <td>...</td>\n",
       "      <td>...</td>\n",
       "      <td>...</td>\n",
       "      <td>...</td>\n",
       "      <td>...</td>\n",
       "      <td>...</td>\n",
       "      <td>...</td>\n",
       "      <td>...</td>\n",
       "      <td>...</td>\n",
       "      <td>...</td>\n",
       "      <td>...</td>\n",
       "      <td>...</td>\n",
       "      <td>...</td>\n",
       "      <td>...</td>\n",
       "      <td>...</td>\n",
       "      <td>...</td>\n",
       "    </tr>\n",
       "    <tr>\n",
       "      <th>1671</th>\n",
       "      <td>1117656</td>\n",
       "      <td>26</td>\n",
       "      <td>Yes</td>\n",
       "      <td>Travel_Rarely</td>\n",
       "      <td>471</td>\n",
       "      <td>Neurology</td>\n",
       "      <td>24</td>\n",
       "      <td>3</td>\n",
       "      <td>Technical Degree</td>\n",
       "      <td>1</td>\n",
       "      <td>...</td>\n",
       "      <td>2</td>\n",
       "      <td>80</td>\n",
       "      <td>0</td>\n",
       "      <td>1</td>\n",
       "      <td>3</td>\n",
       "      <td>1</td>\n",
       "      <td>1</td>\n",
       "      <td>0</td>\n",
       "      <td>0</td>\n",
       "      <td>0</td>\n",
       "    </tr>\n",
       "    <tr>\n",
       "      <th>1672</th>\n",
       "      <td>1152327</td>\n",
       "      <td>46</td>\n",
       "      <td>No</td>\n",
       "      <td>Travel_Rarely</td>\n",
       "      <td>1125</td>\n",
       "      <td>Cardiology</td>\n",
       "      <td>10</td>\n",
       "      <td>3</td>\n",
       "      <td>Marketing</td>\n",
       "      <td>1</td>\n",
       "      <td>...</td>\n",
       "      <td>3</td>\n",
       "      <td>80</td>\n",
       "      <td>1</td>\n",
       "      <td>15</td>\n",
       "      <td>3</td>\n",
       "      <td>3</td>\n",
       "      <td>3</td>\n",
       "      <td>2</td>\n",
       "      <td>1</td>\n",
       "      <td>2</td>\n",
       "    </tr>\n",
       "    <tr>\n",
       "      <th>1673</th>\n",
       "      <td>1812428</td>\n",
       "      <td>20</td>\n",
       "      <td>No</td>\n",
       "      <td>Travel_Rarely</td>\n",
       "      <td>959</td>\n",
       "      <td>Maternity</td>\n",
       "      <td>1</td>\n",
       "      <td>3</td>\n",
       "      <td>Life Sciences</td>\n",
       "      <td>1</td>\n",
       "      <td>...</td>\n",
       "      <td>4</td>\n",
       "      <td>80</td>\n",
       "      <td>0</td>\n",
       "      <td>1</td>\n",
       "      <td>0</td>\n",
       "      <td>4</td>\n",
       "      <td>1</td>\n",
       "      <td>0</td>\n",
       "      <td>0</td>\n",
       "      <td>0</td>\n",
       "    </tr>\n",
       "    <tr>\n",
       "      <th>1674</th>\n",
       "      <td>1812429</td>\n",
       "      <td>39</td>\n",
       "      <td>No</td>\n",
       "      <td>Travel_Rarely</td>\n",
       "      <td>466</td>\n",
       "      <td>Neurology</td>\n",
       "      <td>1</td>\n",
       "      <td>1</td>\n",
       "      <td>Life Sciences</td>\n",
       "      <td>1</td>\n",
       "      <td>...</td>\n",
       "      <td>3</td>\n",
       "      <td>80</td>\n",
       "      <td>1</td>\n",
       "      <td>21</td>\n",
       "      <td>3</td>\n",
       "      <td>3</td>\n",
       "      <td>21</td>\n",
       "      <td>6</td>\n",
       "      <td>11</td>\n",
       "      <td>8</td>\n",
       "    </tr>\n",
       "    <tr>\n",
       "      <th>1675</th>\n",
       "      <td>1152329</td>\n",
       "      <td>27</td>\n",
       "      <td>No</td>\n",
       "      <td>Travel_Rarely</td>\n",
       "      <td>511</td>\n",
       "      <td>Cardiology</td>\n",
       "      <td>2</td>\n",
       "      <td>2</td>\n",
       "      <td>Medical</td>\n",
       "      <td>1</td>\n",
       "      <td>...</td>\n",
       "      <td>2</td>\n",
       "      <td>80</td>\n",
       "      <td>0</td>\n",
       "      <td>9</td>\n",
       "      <td>5</td>\n",
       "      <td>2</td>\n",
       "      <td>8</td>\n",
       "      <td>7</td>\n",
       "      <td>0</td>\n",
       "      <td>7</td>\n",
       "    </tr>\n",
       "  </tbody>\n",
       "</table>\n",
       "<p>1676 rows × 35 columns</p>\n",
       "</div>"
      ],
      "text/plain": [
       "      EmployeeID  Age Attrition     BusinessTravel  DailyRate  Department  \\\n",
       "0        1313919   41        No      Travel_Rarely       1102  Cardiology   \n",
       "1        1200302   49        No  Travel_Frequently        279   Maternity   \n",
       "2        1060315   37       Yes      Travel_Rarely       1373   Maternity   \n",
       "3        1272912   33        No  Travel_Frequently       1392   Maternity   \n",
       "4        1414939   27        No      Travel_Rarely        591   Maternity   \n",
       "...          ...  ...       ...                ...        ...         ...   \n",
       "1671     1117656   26       Yes      Travel_Rarely        471   Neurology   \n",
       "1672     1152327   46        No      Travel_Rarely       1125  Cardiology   \n",
       "1673     1812428   20        No      Travel_Rarely        959   Maternity   \n",
       "1674     1812429   39        No      Travel_Rarely        466   Neurology   \n",
       "1675     1152329   27        No      Travel_Rarely        511  Cardiology   \n",
       "\n",
       "      DistanceFromHome  Education    EducationField  EmployeeCount  ...  \\\n",
       "0                    1          2     Life Sciences              1  ...   \n",
       "1                    8          1     Life Sciences              1  ...   \n",
       "2                    2          2             Other              1  ...   \n",
       "3                    3          4     Life Sciences              1  ...   \n",
       "4                    2          1           Medical              1  ...   \n",
       "...                ...        ...               ...            ...  ...   \n",
       "1671                24          3  Technical Degree              1  ...   \n",
       "1672                10          3         Marketing              1  ...   \n",
       "1673                 1          3     Life Sciences              1  ...   \n",
       "1674                 1          1     Life Sciences              1  ...   \n",
       "1675                 2          2           Medical              1  ...   \n",
       "\n",
       "      RelationshipSatisfaction StandardHours  Shift  TotalWorkingYears  \\\n",
       "0                            1            80      0                  8   \n",
       "1                            4            80      1                 10   \n",
       "2                            2            80      0                  7   \n",
       "3                            3            80      0                  8   \n",
       "4                            4            80      1                  6   \n",
       "...                        ...           ...    ...                ...   \n",
       "1671                         2            80      0                  1   \n",
       "1672                         3            80      1                 15   \n",
       "1673                         4            80      0                  1   \n",
       "1674                         3            80      1                 21   \n",
       "1675                         2            80      0                  9   \n",
       "\n",
       "      TrainingTimesLastYear WorkLifeBalance  YearsAtCompany  \\\n",
       "0                         0               1               6   \n",
       "1                         3               3              10   \n",
       "2                         3               3               0   \n",
       "3                         3               3               8   \n",
       "4                         3               3               2   \n",
       "...                     ...             ...             ...   \n",
       "1671                      3               1               1   \n",
       "1672                      3               3               3   \n",
       "1673                      0               4               1   \n",
       "1674                      3               3              21   \n",
       "1675                      5               2               8   \n",
       "\n",
       "     YearsInCurrentRole  YearsSinceLastPromotion  YearsWithCurrManager  \n",
       "0                     4                        0                     5  \n",
       "1                     7                        1                     7  \n",
       "2                     0                        0                     0  \n",
       "3                     7                        3                     0  \n",
       "4                     2                        2                     2  \n",
       "...                 ...                      ...                   ...  \n",
       "1671                  0                        0                     0  \n",
       "1672                  2                        1                     2  \n",
       "1673                  0                        0                     0  \n",
       "1674                  6                       11                     8  \n",
       "1675                  7                        0                     7  \n",
       "\n",
       "[1676 rows x 35 columns]"
      ]
     },
     "execution_count": 3,
     "metadata": {},
     "output_type": "execute_result"
    }
   ],
   "source": [
    "df"
   ]
  },
  {
   "cell_type": "code",
   "execution_count": 4,
   "id": "639ca783",
   "metadata": {
    "execution": {
     "iopub.execute_input": "2023-03-19T20:20:14.141038Z",
     "iopub.status.busy": "2023-03-19T20:20:14.140282Z",
     "iopub.status.idle": "2023-03-19T20:20:14.160285Z",
     "shell.execute_reply": "2023-03-19T20:20:14.159241Z"
    },
    "papermill": {
     "duration": 0.0304,
     "end_time": "2023-03-19T20:20:14.163298",
     "exception": false,
     "start_time": "2023-03-19T20:20:14.132898",
     "status": "completed"
    },
    "tags": []
   },
   "outputs": [
    {
     "name": "stdout",
     "output_type": "stream",
     "text": [
      "<class 'pandas.core.frame.DataFrame'>\n",
      "RangeIndex: 1676 entries, 0 to 1675\n",
      "Data columns (total 35 columns):\n",
      " #   Column                    Non-Null Count  Dtype \n",
      "---  ------                    --------------  ----- \n",
      " 0   EmployeeID                1676 non-null   int64 \n",
      " 1   Age                       1676 non-null   int64 \n",
      " 2   Attrition                 1676 non-null   object\n",
      " 3   BusinessTravel            1676 non-null   object\n",
      " 4   DailyRate                 1676 non-null   int64 \n",
      " 5   Department                1676 non-null   object\n",
      " 6   DistanceFromHome          1676 non-null   int64 \n",
      " 7   Education                 1676 non-null   int64 \n",
      " 8   EducationField            1676 non-null   object\n",
      " 9   EmployeeCount             1676 non-null   int64 \n",
      " 10  EnvironmentSatisfaction   1676 non-null   int64 \n",
      " 11  Gender                    1676 non-null   object\n",
      " 12  HourlyRate                1676 non-null   int64 \n",
      " 13  JobInvolvement            1676 non-null   int64 \n",
      " 14  JobLevel                  1676 non-null   int64 \n",
      " 15  JobRole                   1676 non-null   object\n",
      " 16  JobSatisfaction           1676 non-null   int64 \n",
      " 17  MaritalStatus             1676 non-null   object\n",
      " 18  MonthlyIncome             1676 non-null   int64 \n",
      " 19  MonthlyRate               1676 non-null   int64 \n",
      " 20  NumCompaniesWorked        1676 non-null   int64 \n",
      " 21  Over18                    1676 non-null   object\n",
      " 22  OverTime                  1676 non-null   object\n",
      " 23  PercentSalaryHike         1676 non-null   int64 \n",
      " 24  PerformanceRating         1676 non-null   int64 \n",
      " 25  RelationshipSatisfaction  1676 non-null   int64 \n",
      " 26  StandardHours             1676 non-null   int64 \n",
      " 27  Shift                     1676 non-null   int64 \n",
      " 28  TotalWorkingYears         1676 non-null   int64 \n",
      " 29  TrainingTimesLastYear     1676 non-null   int64 \n",
      " 30  WorkLifeBalance           1676 non-null   int64 \n",
      " 31  YearsAtCompany            1676 non-null   int64 \n",
      " 32  YearsInCurrentRole        1676 non-null   int64 \n",
      " 33  YearsSinceLastPromotion   1676 non-null   int64 \n",
      " 34  YearsWithCurrManager      1676 non-null   int64 \n",
      "dtypes: int64(26), object(9)\n",
      "memory usage: 458.4+ KB\n"
     ]
    }
   ],
   "source": [
    "df.info()"
   ]
  },
  {
   "cell_type": "markdown",
   "id": "c30c9e28",
   "metadata": {
    "papermill": {
     "duration": 0.006349,
     "end_time": "2023-03-19T20:20:14.176854",
     "exception": false,
     "start_time": "2023-03-19T20:20:14.170505",
     "status": "completed"
    },
    "tags": []
   },
   "source": [
    "## data cleaning"
   ]
  },
  {
   "cell_type": "code",
   "execution_count": 5,
   "id": "3d3e5fa7",
   "metadata": {
    "execution": {
     "iopub.execute_input": "2023-03-19T20:20:14.190899Z",
     "iopub.status.busy": "2023-03-19T20:20:14.190553Z",
     "iopub.status.idle": "2023-03-19T20:20:14.199465Z",
     "shell.execute_reply": "2023-03-19T20:20:14.198740Z"
    },
    "papermill": {
     "duration": 0.018547,
     "end_time": "2023-03-19T20:20:14.201497",
     "exception": false,
     "start_time": "2023-03-19T20:20:14.182950",
     "status": "completed"
    },
    "tags": []
   },
   "outputs": [
    {
     "data": {
      "text/plain": [
       "EmployeeID                  0\n",
       "Age                         0\n",
       "Attrition                   0\n",
       "BusinessTravel              0\n",
       "DailyRate                   0\n",
       "Department                  0\n",
       "DistanceFromHome            0\n",
       "Education                   0\n",
       "EducationField              0\n",
       "EmployeeCount               0\n",
       "EnvironmentSatisfaction     0\n",
       "Gender                      0\n",
       "HourlyRate                  0\n",
       "JobInvolvement              0\n",
       "JobLevel                    0\n",
       "JobRole                     0\n",
       "JobSatisfaction             0\n",
       "MaritalStatus               0\n",
       "MonthlyIncome               0\n",
       "MonthlyRate                 0\n",
       "NumCompaniesWorked          0\n",
       "Over18                      0\n",
       "OverTime                    0\n",
       "PercentSalaryHike           0\n",
       "PerformanceRating           0\n",
       "RelationshipSatisfaction    0\n",
       "StandardHours               0\n",
       "Shift                       0\n",
       "TotalWorkingYears           0\n",
       "TrainingTimesLastYear       0\n",
       "WorkLifeBalance             0\n",
       "YearsAtCompany              0\n",
       "YearsInCurrentRole          0\n",
       "YearsSinceLastPromotion     0\n",
       "YearsWithCurrManager        0\n",
       "dtype: int64"
      ]
     },
     "execution_count": 5,
     "metadata": {},
     "output_type": "execute_result"
    }
   ],
   "source": [
    "df.isna().sum()"
   ]
  },
  {
   "cell_type": "code",
   "execution_count": 6,
   "id": "c4046b8f",
   "metadata": {
    "execution": {
     "iopub.execute_input": "2023-03-19T20:20:14.216264Z",
     "iopub.status.busy": "2023-03-19T20:20:14.215344Z",
     "iopub.status.idle": "2023-03-19T20:20:14.228513Z",
     "shell.execute_reply": "2023-03-19T20:20:14.227726Z"
    },
    "papermill": {
     "duration": 0.022617,
     "end_time": "2023-03-19T20:20:14.230527",
     "exception": false,
     "start_time": "2023-03-19T20:20:14.207910",
     "status": "completed"
    },
    "tags": []
   },
   "outputs": [
    {
     "data": {
      "text/plain": [
       "0"
      ]
     },
     "execution_count": 6,
     "metadata": {},
     "output_type": "execute_result"
    }
   ],
   "source": [
    "df.duplicated().sum()"
   ]
  },
  {
   "cell_type": "code",
   "execution_count": 7,
   "id": "74fb6647",
   "metadata": {
    "execution": {
     "iopub.execute_input": "2023-03-19T20:20:14.246022Z",
     "iopub.status.busy": "2023-03-19T20:20:14.244937Z",
     "iopub.status.idle": "2023-03-19T20:20:14.255217Z",
     "shell.execute_reply": "2023-03-19T20:20:14.254131Z"
    },
    "papermill": {
     "duration": 0.020277,
     "end_time": "2023-03-19T20:20:14.257581",
     "exception": false,
     "start_time": "2023-03-19T20:20:14.237304",
     "status": "completed"
    },
    "tags": []
   },
   "outputs": [
    {
     "data": {
      "text/plain": [
       "EmployeeID                  0\n",
       "Age                         0\n",
       "Attrition                   0\n",
       "BusinessTravel              0\n",
       "DailyRate                   0\n",
       "Department                  0\n",
       "DistanceFromHome            0\n",
       "Education                   0\n",
       "EducationField              0\n",
       "EmployeeCount               0\n",
       "EnvironmentSatisfaction     0\n",
       "Gender                      0\n",
       "HourlyRate                  0\n",
       "JobInvolvement              0\n",
       "JobLevel                    0\n",
       "JobRole                     0\n",
       "JobSatisfaction             0\n",
       "MaritalStatus               0\n",
       "MonthlyIncome               0\n",
       "MonthlyRate                 0\n",
       "NumCompaniesWorked          0\n",
       "Over18                      0\n",
       "OverTime                    0\n",
       "PercentSalaryHike           0\n",
       "PerformanceRating           0\n",
       "RelationshipSatisfaction    0\n",
       "StandardHours               0\n",
       "Shift                       0\n",
       "TotalWorkingYears           0\n",
       "TrainingTimesLastYear       0\n",
       "WorkLifeBalance             0\n",
       "YearsAtCompany              0\n",
       "YearsInCurrentRole          0\n",
       "YearsSinceLastPromotion     0\n",
       "YearsWithCurrManager        0\n",
       "dtype: int64"
      ]
     },
     "execution_count": 7,
     "metadata": {},
     "output_type": "execute_result"
    }
   ],
   "source": [
    "df.isnull().sum()"
   ]
  },
  {
   "cell_type": "code",
   "execution_count": 8,
   "id": "0be8ff52",
   "metadata": {
    "execution": {
     "iopub.execute_input": "2023-03-19T20:20:14.271761Z",
     "iopub.status.busy": "2023-03-19T20:20:14.271416Z",
     "iopub.status.idle": "2023-03-19T20:20:14.284921Z",
     "shell.execute_reply": "2023-03-19T20:20:14.283809Z"
    },
    "papermill": {
     "duration": 0.023433,
     "end_time": "2023-03-19T20:20:14.287363",
     "exception": false,
     "start_time": "2023-03-19T20:20:14.263930",
     "status": "completed"
    },
    "tags": []
   },
   "outputs": [],
   "source": [
    "df = df.drop_duplicates()\n",
    "df = df.dropna()"
   ]
  },
  {
   "cell_type": "markdown",
   "id": "459f145f",
   "metadata": {
    "papermill": {
     "duration": 0.006607,
     "end_time": "2023-03-19T20:20:14.300955",
     "exception": false,
     "start_time": "2023-03-19T20:20:14.294348",
     "status": "completed"
    },
    "tags": []
   },
   "source": [
    "## EDA"
   ]
  },
  {
   "cell_type": "code",
   "execution_count": 9,
   "id": "2488bf6c",
   "metadata": {
    "execution": {
     "iopub.execute_input": "2023-03-19T20:20:14.316295Z",
     "iopub.status.busy": "2023-03-19T20:20:14.315949Z",
     "iopub.status.idle": "2023-03-19T20:20:14.344317Z",
     "shell.execute_reply": "2023-03-19T20:20:14.343493Z"
    },
    "papermill": {
     "duration": 0.038847,
     "end_time": "2023-03-19T20:20:14.346594",
     "exception": false,
     "start_time": "2023-03-19T20:20:14.307747",
     "status": "completed"
    },
    "tags": []
   },
   "outputs": [
    {
     "data": {
      "text/html": [
       "<div>\n",
       "<style scoped>\n",
       "    .dataframe tbody tr th:only-of-type {\n",
       "        vertical-align: middle;\n",
       "    }\n",
       "\n",
       "    .dataframe tbody tr th {\n",
       "        vertical-align: top;\n",
       "    }\n",
       "\n",
       "    .dataframe thead th {\n",
       "        text-align: right;\n",
       "    }\n",
       "</style>\n",
       "<table border=\"1\" class=\"dataframe\">\n",
       "  <thead>\n",
       "    <tr style=\"text-align: right;\">\n",
       "      <th></th>\n",
       "      <th>EmployeeID</th>\n",
       "      <th>Age</th>\n",
       "      <th>Attrition</th>\n",
       "      <th>BusinessTravel</th>\n",
       "      <th>DailyRate</th>\n",
       "      <th>Department</th>\n",
       "      <th>DistanceFromHome</th>\n",
       "      <th>Education</th>\n",
       "      <th>EducationField</th>\n",
       "      <th>EmployeeCount</th>\n",
       "      <th>...</th>\n",
       "      <th>RelationshipSatisfaction</th>\n",
       "      <th>StandardHours</th>\n",
       "      <th>Shift</th>\n",
       "      <th>TotalWorkingYears</th>\n",
       "      <th>TrainingTimesLastYear</th>\n",
       "      <th>WorkLifeBalance</th>\n",
       "      <th>YearsAtCompany</th>\n",
       "      <th>YearsInCurrentRole</th>\n",
       "      <th>YearsSinceLastPromotion</th>\n",
       "      <th>YearsWithCurrManager</th>\n",
       "    </tr>\n",
       "  </thead>\n",
       "  <tbody>\n",
       "    <tr>\n",
       "      <th>0</th>\n",
       "      <td>1313919</td>\n",
       "      <td>41</td>\n",
       "      <td>No</td>\n",
       "      <td>Travel_Rarely</td>\n",
       "      <td>1102</td>\n",
       "      <td>Cardiology</td>\n",
       "      <td>1</td>\n",
       "      <td>2</td>\n",
       "      <td>Life Sciences</td>\n",
       "      <td>1</td>\n",
       "      <td>...</td>\n",
       "      <td>1</td>\n",
       "      <td>80</td>\n",
       "      <td>0</td>\n",
       "      <td>8</td>\n",
       "      <td>0</td>\n",
       "      <td>1</td>\n",
       "      <td>6</td>\n",
       "      <td>4</td>\n",
       "      <td>0</td>\n",
       "      <td>5</td>\n",
       "    </tr>\n",
       "    <tr>\n",
       "      <th>1</th>\n",
       "      <td>1200302</td>\n",
       "      <td>49</td>\n",
       "      <td>No</td>\n",
       "      <td>Travel_Frequently</td>\n",
       "      <td>279</td>\n",
       "      <td>Maternity</td>\n",
       "      <td>8</td>\n",
       "      <td>1</td>\n",
       "      <td>Life Sciences</td>\n",
       "      <td>1</td>\n",
       "      <td>...</td>\n",
       "      <td>4</td>\n",
       "      <td>80</td>\n",
       "      <td>1</td>\n",
       "      <td>10</td>\n",
       "      <td>3</td>\n",
       "      <td>3</td>\n",
       "      <td>10</td>\n",
       "      <td>7</td>\n",
       "      <td>1</td>\n",
       "      <td>7</td>\n",
       "    </tr>\n",
       "    <tr>\n",
       "      <th>2</th>\n",
       "      <td>1060315</td>\n",
       "      <td>37</td>\n",
       "      <td>Yes</td>\n",
       "      <td>Travel_Rarely</td>\n",
       "      <td>1373</td>\n",
       "      <td>Maternity</td>\n",
       "      <td>2</td>\n",
       "      <td>2</td>\n",
       "      <td>Other</td>\n",
       "      <td>1</td>\n",
       "      <td>...</td>\n",
       "      <td>2</td>\n",
       "      <td>80</td>\n",
       "      <td>0</td>\n",
       "      <td>7</td>\n",
       "      <td>3</td>\n",
       "      <td>3</td>\n",
       "      <td>0</td>\n",
       "      <td>0</td>\n",
       "      <td>0</td>\n",
       "      <td>0</td>\n",
       "    </tr>\n",
       "    <tr>\n",
       "      <th>3</th>\n",
       "      <td>1272912</td>\n",
       "      <td>33</td>\n",
       "      <td>No</td>\n",
       "      <td>Travel_Frequently</td>\n",
       "      <td>1392</td>\n",
       "      <td>Maternity</td>\n",
       "      <td>3</td>\n",
       "      <td>4</td>\n",
       "      <td>Life Sciences</td>\n",
       "      <td>1</td>\n",
       "      <td>...</td>\n",
       "      <td>3</td>\n",
       "      <td>80</td>\n",
       "      <td>0</td>\n",
       "      <td>8</td>\n",
       "      <td>3</td>\n",
       "      <td>3</td>\n",
       "      <td>8</td>\n",
       "      <td>7</td>\n",
       "      <td>3</td>\n",
       "      <td>0</td>\n",
       "    </tr>\n",
       "    <tr>\n",
       "      <th>4</th>\n",
       "      <td>1414939</td>\n",
       "      <td>27</td>\n",
       "      <td>No</td>\n",
       "      <td>Travel_Rarely</td>\n",
       "      <td>591</td>\n",
       "      <td>Maternity</td>\n",
       "      <td>2</td>\n",
       "      <td>1</td>\n",
       "      <td>Medical</td>\n",
       "      <td>1</td>\n",
       "      <td>...</td>\n",
       "      <td>4</td>\n",
       "      <td>80</td>\n",
       "      <td>1</td>\n",
       "      <td>6</td>\n",
       "      <td>3</td>\n",
       "      <td>3</td>\n",
       "      <td>2</td>\n",
       "      <td>2</td>\n",
       "      <td>2</td>\n",
       "      <td>2</td>\n",
       "    </tr>\n",
       "  </tbody>\n",
       "</table>\n",
       "<p>5 rows × 35 columns</p>\n",
       "</div>"
      ],
      "text/plain": [
       "   EmployeeID  Age Attrition     BusinessTravel  DailyRate  Department  \\\n",
       "0     1313919   41        No      Travel_Rarely       1102  Cardiology   \n",
       "1     1200302   49        No  Travel_Frequently        279   Maternity   \n",
       "2     1060315   37       Yes      Travel_Rarely       1373   Maternity   \n",
       "3     1272912   33        No  Travel_Frequently       1392   Maternity   \n",
       "4     1414939   27        No      Travel_Rarely        591   Maternity   \n",
       "\n",
       "   DistanceFromHome  Education EducationField  EmployeeCount  ...  \\\n",
       "0                 1          2  Life Sciences              1  ...   \n",
       "1                 8          1  Life Sciences              1  ...   \n",
       "2                 2          2          Other              1  ...   \n",
       "3                 3          4  Life Sciences              1  ...   \n",
       "4                 2          1        Medical              1  ...   \n",
       "\n",
       "   RelationshipSatisfaction StandardHours  Shift  TotalWorkingYears  \\\n",
       "0                         1            80      0                  8   \n",
       "1                         4            80      1                 10   \n",
       "2                         2            80      0                  7   \n",
       "3                         3            80      0                  8   \n",
       "4                         4            80      1                  6   \n",
       "\n",
       "   TrainingTimesLastYear WorkLifeBalance  YearsAtCompany YearsInCurrentRole  \\\n",
       "0                      0               1               6                  4   \n",
       "1                      3               3              10                  7   \n",
       "2                      3               3               0                  0   \n",
       "3                      3               3               8                  7   \n",
       "4                      3               3               2                  2   \n",
       "\n",
       "   YearsSinceLastPromotion  YearsWithCurrManager  \n",
       "0                        0                     5  \n",
       "1                        1                     7  \n",
       "2                        0                     0  \n",
       "3                        3                     0  \n",
       "4                        2                     2  \n",
       "\n",
       "[5 rows x 35 columns]"
      ]
     },
     "execution_count": 9,
     "metadata": {},
     "output_type": "execute_result"
    }
   ],
   "source": [
    "df.head()"
   ]
  },
  {
   "cell_type": "code",
   "execution_count": 10,
   "id": "b310a122",
   "metadata": {
    "execution": {
     "iopub.execute_input": "2023-03-19T20:20:14.366871Z",
     "iopub.status.busy": "2023-03-19T20:20:14.365925Z",
     "iopub.status.idle": "2023-03-19T20:20:14.451225Z",
     "shell.execute_reply": "2023-03-19T20:20:14.450045Z"
    },
    "papermill": {
     "duration": 0.097979,
     "end_time": "2023-03-19T20:20:14.454246",
     "exception": false,
     "start_time": "2023-03-19T20:20:14.356267",
     "status": "completed"
    },
    "tags": []
   },
   "outputs": [
    {
     "data": {
      "text/html": [
       "<div>\n",
       "<style scoped>\n",
       "    .dataframe tbody tr th:only-of-type {\n",
       "        vertical-align: middle;\n",
       "    }\n",
       "\n",
       "    .dataframe tbody tr th {\n",
       "        vertical-align: top;\n",
       "    }\n",
       "\n",
       "    .dataframe thead th {\n",
       "        text-align: right;\n",
       "    }\n",
       "</style>\n",
       "<table border=\"1\" class=\"dataframe\">\n",
       "  <thead>\n",
       "    <tr style=\"text-align: right;\">\n",
       "      <th></th>\n",
       "      <th>EmployeeID</th>\n",
       "      <th>Age</th>\n",
       "      <th>DailyRate</th>\n",
       "      <th>DistanceFromHome</th>\n",
       "      <th>Education</th>\n",
       "      <th>EmployeeCount</th>\n",
       "      <th>EnvironmentSatisfaction</th>\n",
       "      <th>HourlyRate</th>\n",
       "      <th>JobInvolvement</th>\n",
       "      <th>JobLevel</th>\n",
       "      <th>...</th>\n",
       "      <th>RelationshipSatisfaction</th>\n",
       "      <th>StandardHours</th>\n",
       "      <th>Shift</th>\n",
       "      <th>TotalWorkingYears</th>\n",
       "      <th>TrainingTimesLastYear</th>\n",
       "      <th>WorkLifeBalance</th>\n",
       "      <th>YearsAtCompany</th>\n",
       "      <th>YearsInCurrentRole</th>\n",
       "      <th>YearsSinceLastPromotion</th>\n",
       "      <th>YearsWithCurrManager</th>\n",
       "    </tr>\n",
       "  </thead>\n",
       "  <tbody>\n",
       "    <tr>\n",
       "      <th>count</th>\n",
       "      <td>1.676000e+03</td>\n",
       "      <td>1676.000000</td>\n",
       "      <td>1676.000000</td>\n",
       "      <td>1676.000000</td>\n",
       "      <td>1676.000000</td>\n",
       "      <td>1676.0</td>\n",
       "      <td>1676.000000</td>\n",
       "      <td>1676.000000</td>\n",
       "      <td>1676.000000</td>\n",
       "      <td>1676.000000</td>\n",
       "      <td>...</td>\n",
       "      <td>1676.000000</td>\n",
       "      <td>1676.0</td>\n",
       "      <td>1676.000000</td>\n",
       "      <td>1676.000000</td>\n",
       "      <td>1676.000000</td>\n",
       "      <td>1676.000000</td>\n",
       "      <td>1676.000000</td>\n",
       "      <td>1676.000000</td>\n",
       "      <td>1676.000000</td>\n",
       "      <td>1676.000000</td>\n",
       "    </tr>\n",
       "    <tr>\n",
       "      <th>mean</th>\n",
       "      <td>1.456796e+06</td>\n",
       "      <td>36.866348</td>\n",
       "      <td>800.557876</td>\n",
       "      <td>9.221957</td>\n",
       "      <td>2.907518</td>\n",
       "      <td>1.0</td>\n",
       "      <td>2.714797</td>\n",
       "      <td>65.470167</td>\n",
       "      <td>2.724940</td>\n",
       "      <td>2.066826</td>\n",
       "      <td>...</td>\n",
       "      <td>2.718377</td>\n",
       "      <td>80.0</td>\n",
       "      <td>0.806086</td>\n",
       "      <td>11.338902</td>\n",
       "      <td>2.805489</td>\n",
       "      <td>2.766110</td>\n",
       "      <td>7.033413</td>\n",
       "      <td>4.264916</td>\n",
       "      <td>2.200477</td>\n",
       "      <td>4.135442</td>\n",
       "    </tr>\n",
       "    <tr>\n",
       "      <th>std</th>\n",
       "      <td>2.487486e+05</td>\n",
       "      <td>9.129126</td>\n",
       "      <td>401.594438</td>\n",
       "      <td>8.158118</td>\n",
       "      <td>1.025835</td>\n",
       "      <td>0.0</td>\n",
       "      <td>1.097534</td>\n",
       "      <td>20.207572</td>\n",
       "      <td>0.714121</td>\n",
       "      <td>1.113423</td>\n",
       "      <td>...</td>\n",
       "      <td>1.078162</td>\n",
       "      <td>0.0</td>\n",
       "      <td>0.855527</td>\n",
       "      <td>7.834996</td>\n",
       "      <td>1.288431</td>\n",
       "      <td>0.702369</td>\n",
       "      <td>6.098991</td>\n",
       "      <td>3.627456</td>\n",
       "      <td>3.229587</td>\n",
       "      <td>3.559662</td>\n",
       "    </tr>\n",
       "    <tr>\n",
       "      <th>min</th>\n",
       "      <td>1.025177e+06</td>\n",
       "      <td>18.000000</td>\n",
       "      <td>102.000000</td>\n",
       "      <td>1.000000</td>\n",
       "      <td>1.000000</td>\n",
       "      <td>1.0</td>\n",
       "      <td>1.000000</td>\n",
       "      <td>30.000000</td>\n",
       "      <td>1.000000</td>\n",
       "      <td>1.000000</td>\n",
       "      <td>...</td>\n",
       "      <td>1.000000</td>\n",
       "      <td>80.0</td>\n",
       "      <td>0.000000</td>\n",
       "      <td>0.000000</td>\n",
       "      <td>0.000000</td>\n",
       "      <td>1.000000</td>\n",
       "      <td>0.000000</td>\n",
       "      <td>0.000000</td>\n",
       "      <td>0.000000</td>\n",
       "      <td>0.000000</td>\n",
       "    </tr>\n",
       "    <tr>\n",
       "      <th>25%</th>\n",
       "      <td>1.235832e+06</td>\n",
       "      <td>30.000000</td>\n",
       "      <td>465.000000</td>\n",
       "      <td>2.000000</td>\n",
       "      <td>2.000000</td>\n",
       "      <td>1.0</td>\n",
       "      <td>2.000000</td>\n",
       "      <td>48.000000</td>\n",
       "      <td>2.000000</td>\n",
       "      <td>1.000000</td>\n",
       "      <td>...</td>\n",
       "      <td>2.000000</td>\n",
       "      <td>80.0</td>\n",
       "      <td>0.000000</td>\n",
       "      <td>6.000000</td>\n",
       "      <td>2.000000</td>\n",
       "      <td>2.000000</td>\n",
       "      <td>3.000000</td>\n",
       "      <td>2.000000</td>\n",
       "      <td>0.000000</td>\n",
       "      <td>2.000000</td>\n",
       "    </tr>\n",
       "    <tr>\n",
       "      <th>50%</th>\n",
       "      <td>1.464606e+06</td>\n",
       "      <td>36.000000</td>\n",
       "      <td>796.500000</td>\n",
       "      <td>7.000000</td>\n",
       "      <td>3.000000</td>\n",
       "      <td>1.0</td>\n",
       "      <td>3.000000</td>\n",
       "      <td>65.500000</td>\n",
       "      <td>3.000000</td>\n",
       "      <td>2.000000</td>\n",
       "      <td>...</td>\n",
       "      <td>3.000000</td>\n",
       "      <td>80.0</td>\n",
       "      <td>1.000000</td>\n",
       "      <td>10.000000</td>\n",
       "      <td>3.000000</td>\n",
       "      <td>3.000000</td>\n",
       "      <td>5.000000</td>\n",
       "      <td>3.000000</td>\n",
       "      <td>1.000000</td>\n",
       "      <td>3.000000</td>\n",
       "    </tr>\n",
       "    <tr>\n",
       "      <th>75%</th>\n",
       "      <td>1.667992e+06</td>\n",
       "      <td>43.000000</td>\n",
       "      <td>1157.000000</td>\n",
       "      <td>14.000000</td>\n",
       "      <td>4.000000</td>\n",
       "      <td>1.0</td>\n",
       "      <td>4.000000</td>\n",
       "      <td>83.000000</td>\n",
       "      <td>3.000000</td>\n",
       "      <td>3.000000</td>\n",
       "      <td>...</td>\n",
       "      <td>4.000000</td>\n",
       "      <td>80.0</td>\n",
       "      <td>1.000000</td>\n",
       "      <td>15.000000</td>\n",
       "      <td>3.000000</td>\n",
       "      <td>3.000000</td>\n",
       "      <td>10.000000</td>\n",
       "      <td>7.000000</td>\n",
       "      <td>3.000000</td>\n",
       "      <td>7.000000</td>\n",
       "    </tr>\n",
       "    <tr>\n",
       "      <th>max</th>\n",
       "      <td>1.886378e+06</td>\n",
       "      <td>60.000000</td>\n",
       "      <td>1499.000000</td>\n",
       "      <td>29.000000</td>\n",
       "      <td>5.000000</td>\n",
       "      <td>1.0</td>\n",
       "      <td>4.000000</td>\n",
       "      <td>100.000000</td>\n",
       "      <td>4.000000</td>\n",
       "      <td>5.000000</td>\n",
       "      <td>...</td>\n",
       "      <td>4.000000</td>\n",
       "      <td>80.0</td>\n",
       "      <td>3.000000</td>\n",
       "      <td>40.000000</td>\n",
       "      <td>6.000000</td>\n",
       "      <td>4.000000</td>\n",
       "      <td>40.000000</td>\n",
       "      <td>18.000000</td>\n",
       "      <td>15.000000</td>\n",
       "      <td>17.000000</td>\n",
       "    </tr>\n",
       "  </tbody>\n",
       "</table>\n",
       "<p>8 rows × 26 columns</p>\n",
       "</div>"
      ],
      "text/plain": [
       "         EmployeeID          Age    DailyRate  DistanceFromHome    Education  \\\n",
       "count  1.676000e+03  1676.000000  1676.000000       1676.000000  1676.000000   \n",
       "mean   1.456796e+06    36.866348   800.557876          9.221957     2.907518   \n",
       "std    2.487486e+05     9.129126   401.594438          8.158118     1.025835   \n",
       "min    1.025177e+06    18.000000   102.000000          1.000000     1.000000   \n",
       "25%    1.235832e+06    30.000000   465.000000          2.000000     2.000000   \n",
       "50%    1.464606e+06    36.000000   796.500000          7.000000     3.000000   \n",
       "75%    1.667992e+06    43.000000  1157.000000         14.000000     4.000000   \n",
       "max    1.886378e+06    60.000000  1499.000000         29.000000     5.000000   \n",
       "\n",
       "       EmployeeCount  EnvironmentSatisfaction   HourlyRate  JobInvolvement  \\\n",
       "count         1676.0              1676.000000  1676.000000     1676.000000   \n",
       "mean             1.0                 2.714797    65.470167        2.724940   \n",
       "std              0.0                 1.097534    20.207572        0.714121   \n",
       "min              1.0                 1.000000    30.000000        1.000000   \n",
       "25%              1.0                 2.000000    48.000000        2.000000   \n",
       "50%              1.0                 3.000000    65.500000        3.000000   \n",
       "75%              1.0                 4.000000    83.000000        3.000000   \n",
       "max              1.0                 4.000000   100.000000        4.000000   \n",
       "\n",
       "          JobLevel  ...  RelationshipSatisfaction  StandardHours        Shift  \\\n",
       "count  1676.000000  ...               1676.000000         1676.0  1676.000000   \n",
       "mean      2.066826  ...                  2.718377           80.0     0.806086   \n",
       "std       1.113423  ...                  1.078162            0.0     0.855527   \n",
       "min       1.000000  ...                  1.000000           80.0     0.000000   \n",
       "25%       1.000000  ...                  2.000000           80.0     0.000000   \n",
       "50%       2.000000  ...                  3.000000           80.0     1.000000   \n",
       "75%       3.000000  ...                  4.000000           80.0     1.000000   \n",
       "max       5.000000  ...                  4.000000           80.0     3.000000   \n",
       "\n",
       "       TotalWorkingYears  TrainingTimesLastYear  WorkLifeBalance  \\\n",
       "count        1676.000000            1676.000000      1676.000000   \n",
       "mean           11.338902               2.805489         2.766110   \n",
       "std             7.834996               1.288431         0.702369   \n",
       "min             0.000000               0.000000         1.000000   \n",
       "25%             6.000000               2.000000         2.000000   \n",
       "50%            10.000000               3.000000         3.000000   \n",
       "75%            15.000000               3.000000         3.000000   \n",
       "max            40.000000               6.000000         4.000000   \n",
       "\n",
       "       YearsAtCompany  YearsInCurrentRole  YearsSinceLastPromotion  \\\n",
       "count     1676.000000         1676.000000              1676.000000   \n",
       "mean         7.033413            4.264916                 2.200477   \n",
       "std          6.098991            3.627456                 3.229587   \n",
       "min          0.000000            0.000000                 0.000000   \n",
       "25%          3.000000            2.000000                 0.000000   \n",
       "50%          5.000000            3.000000                 1.000000   \n",
       "75%         10.000000            7.000000                 3.000000   \n",
       "max         40.000000           18.000000                15.000000   \n",
       "\n",
       "       YearsWithCurrManager  \n",
       "count           1676.000000  \n",
       "mean               4.135442  \n",
       "std                3.559662  \n",
       "min                0.000000  \n",
       "25%                2.000000  \n",
       "50%                3.000000  \n",
       "75%                7.000000  \n",
       "max               17.000000  \n",
       "\n",
       "[8 rows x 26 columns]"
      ]
     },
     "execution_count": 10,
     "metadata": {},
     "output_type": "execute_result"
    }
   ],
   "source": [
    "#dara summary\n",
    "df.describe()"
   ]
  },
  {
   "cell_type": "code",
   "execution_count": 11,
   "id": "461c2892",
   "metadata": {
    "execution": {
     "iopub.execute_input": "2023-03-19T20:20:14.472129Z",
     "iopub.status.busy": "2023-03-19T20:20:14.471104Z",
     "iopub.status.idle": "2023-03-19T20:20:14.486759Z",
     "shell.execute_reply": "2023-03-19T20:20:14.484872Z"
    },
    "papermill": {
     "duration": 0.027178,
     "end_time": "2023-03-19T20:20:14.489379",
     "exception": false,
     "start_time": "2023-03-19T20:20:14.462201",
     "status": "completed"
    },
    "tags": []
   },
   "outputs": [
    {
     "name": "stdout",
     "output_type": "stream",
     "text": [
      "<class 'pandas.core.frame.DataFrame'>\n",
      "Int64Index: 1676 entries, 0 to 1675\n",
      "Data columns (total 35 columns):\n",
      " #   Column                    Non-Null Count  Dtype \n",
      "---  ------                    --------------  ----- \n",
      " 0   EmployeeID                1676 non-null   int64 \n",
      " 1   Age                       1676 non-null   int64 \n",
      " 2   Attrition                 1676 non-null   object\n",
      " 3   BusinessTravel            1676 non-null   object\n",
      " 4   DailyRate                 1676 non-null   int64 \n",
      " 5   Department                1676 non-null   object\n",
      " 6   DistanceFromHome          1676 non-null   int64 \n",
      " 7   Education                 1676 non-null   int64 \n",
      " 8   EducationField            1676 non-null   object\n",
      " 9   EmployeeCount             1676 non-null   int64 \n",
      " 10  EnvironmentSatisfaction   1676 non-null   int64 \n",
      " 11  Gender                    1676 non-null   object\n",
      " 12  HourlyRate                1676 non-null   int64 \n",
      " 13  JobInvolvement            1676 non-null   int64 \n",
      " 14  JobLevel                  1676 non-null   int64 \n",
      " 15  JobRole                   1676 non-null   object\n",
      " 16  JobSatisfaction           1676 non-null   int64 \n",
      " 17  MaritalStatus             1676 non-null   object\n",
      " 18  MonthlyIncome             1676 non-null   int64 \n",
      " 19  MonthlyRate               1676 non-null   int64 \n",
      " 20  NumCompaniesWorked        1676 non-null   int64 \n",
      " 21  Over18                    1676 non-null   object\n",
      " 22  OverTime                  1676 non-null   object\n",
      " 23  PercentSalaryHike         1676 non-null   int64 \n",
      " 24  PerformanceRating         1676 non-null   int64 \n",
      " 25  RelationshipSatisfaction  1676 non-null   int64 \n",
      " 26  StandardHours             1676 non-null   int64 \n",
      " 27  Shift                     1676 non-null   int64 \n",
      " 28  TotalWorkingYears         1676 non-null   int64 \n",
      " 29  TrainingTimesLastYear     1676 non-null   int64 \n",
      " 30  WorkLifeBalance           1676 non-null   int64 \n",
      " 31  YearsAtCompany            1676 non-null   int64 \n",
      " 32  YearsInCurrentRole        1676 non-null   int64 \n",
      " 33  YearsSinceLastPromotion   1676 non-null   int64 \n",
      " 34  YearsWithCurrManager      1676 non-null   int64 \n",
      "dtypes: int64(26), object(9)\n",
      "memory usage: 471.4+ KB\n"
     ]
    }
   ],
   "source": [
    "df.info()"
   ]
  },
  {
   "cell_type": "code",
   "execution_count": 12,
   "id": "859b0214",
   "metadata": {
    "execution": {
     "iopub.execute_input": "2023-03-19T20:20:14.506608Z",
     "iopub.status.busy": "2023-03-19T20:20:14.506221Z",
     "iopub.status.idle": "2023-03-19T20:20:15.310811Z",
     "shell.execute_reply": "2023-03-19T20:20:15.309762Z"
    },
    "papermill": {
     "duration": 0.816974,
     "end_time": "2023-03-19T20:20:15.314585",
     "exception": false,
     "start_time": "2023-03-19T20:20:14.497611",
     "status": "completed"
    },
    "tags": []
   },
   "outputs": [
    {
     "data": {
      "text/plain": [
       "<Axes: >"
      ]
     },
     "execution_count": 12,
     "metadata": {},
     "output_type": "execute_result"
    },
    {
     "data": {
      "image/png": "[encoded data removed]",
      "text/plain": [
       "<Figure size 640x480 with 2 Axes>"
      ]
     },
     "metadata": {},
     "output_type": "display_data"
    }
   ],
   "source": [
    "#correlation table\n",
    "corr_df = df.drop([\"EmployeeID\",\"Department\",\"Education\",\"EducationField\",\"EmployeeCount\",\"Gender\",\"Attrition\",\"Over18\",\n",
    "                   \"OverTime\",\"JobRole\",\"MaritalStatus\",\"BusinessTravel\",\"StandardHours\"], axis=1)\n",
    "#heatmap of variable correlation\n",
    "sns.heatmap(corr_df.corr(method='pearson'),cmap='YlGn')"
   ]
  },
  {
   "cell_type": "code",
   "execution_count": 13,
   "id": "5c2386b6",
   "metadata": {
    "execution": {
     "iopub.execute_input": "2023-03-19T20:20:15.336985Z",
     "iopub.status.busy": "2023-03-19T20:20:15.336365Z",
     "iopub.status.idle": "2023-03-19T20:20:15.659206Z",
     "shell.execute_reply": "2023-03-19T20:20:15.657881Z"
    },
    "papermill": {
     "duration": 0.336862,
     "end_time": "2023-03-19T20:20:15.661908",
     "exception": false,
     "start_time": "2023-03-19T20:20:15.325046",
     "status": "completed"
    },
    "tags": []
   },
   "outputs": [
    {
     "data": {
      "image/png": "[encoded data removed]",
      "text/plain": [
       "<Figure size 500x500 with 1 Axes>"
      ]
     },
     "metadata": {},
     "output_type": "display_data"
    },
    {
     "data": {
      "text/plain": [
       "count    1676.000000\n",
       "mean       36.866348\n",
       "std         9.129126\n",
       "min        18.000000\n",
       "25%        30.000000\n",
       "50%        36.000000\n",
       "75%        43.000000\n",
       "max        60.000000\n",
       "Name: Age, dtype: float64"
      ]
     },
     "execution_count": 13,
     "metadata": {},
     "output_type": "execute_result"
    }
   ],
   "source": [
    "sns.displot(df[\"Age\"], kde=True)\n",
    "plt.title(\"Employee Age distribution\")\n",
    "plt.show()\n",
    "df[\"Age\"].describe()"
   ]
  },
  {
   "cell_type": "code",
   "execution_count": 14,
   "id": "31c3e660",
   "metadata": {
    "execution": {
     "iopub.execute_input": "2023-03-19T20:20:15.685994Z",
     "iopub.status.busy": "2023-03-19T20:20:15.685202Z",
     "iopub.status.idle": "2023-03-19T20:20:16.005260Z",
     "shell.execute_reply": "2023-03-19T20:20:16.004119Z"
    },
    "papermill": {
     "duration": 0.335538,
     "end_time": "2023-03-19T20:20:16.008266",
     "exception": false,
     "start_time": "2023-03-19T20:20:15.672728",
     "status": "completed"
    },
    "tags": []
   },
   "outputs": [
    {
     "data": {
      "text/plain": [
       "count    1676.000000\n",
       "mean        7.033413\n",
       "std         6.098991\n",
       "min         0.000000\n",
       "25%         3.000000\n",
       "50%         5.000000\n",
       "75%        10.000000\n",
       "max        40.000000\n",
       "Name: YearsAtCompany, dtype: float64"
      ]
     },
     "execution_count": 14,
     "metadata": {},
     "output_type": "execute_result"
    },
    {
     "data": {
      "image/png": "[encoded data removed]",
      "text/plain": [
       "<Figure size 500x500 with 1 Axes>"
      ]
     },
     "metadata": {},
     "output_type": "display_data"
    }
   ],
   "source": [
    "sns.displot(df[\"YearsAtCompany\"], kde=True)\n",
    "plt.title('Years At Company Distribution')\n",
    "df['YearsAtCompany'].describe()"
   ]
  },
  {
   "cell_type": "code",
   "execution_count": 15,
   "id": "a4bd0924",
   "metadata": {
    "execution": {
     "iopub.execute_input": "2023-03-19T20:20:16.033365Z",
     "iopub.status.busy": "2023-03-19T20:20:16.032311Z",
     "iopub.status.idle": "2023-03-19T20:20:16.216511Z",
     "shell.execute_reply": "2023-03-19T20:20:16.215377Z"
    },
    "papermill": {
     "duration": 0.199465,
     "end_time": "2023-03-19T20:20:16.219164",
     "exception": false,
     "start_time": "2023-03-19T20:20:16.019699",
     "status": "completed"
    },
    "tags": []
   },
   "outputs": [
    {
     "data": {
      "text/plain": [
       "Text(0.5, 1.0, 'Average Monthly Income by Job Level')"
      ]
     },
     "execution_count": 15,
     "metadata": {},
     "output_type": "execute_result"
    },
    {
     "data": {
      "image/png": "[encoded data removed]",
      "text/plain": [
       "<Figure size 640x480 with 1 Axes>"
      ]
     },
     "metadata": {},
     "output_type": "display_data"
    }
   ],
   "source": [
    "income= df[[\"JobLevel\",\"MonthlyIncome\"]].groupby(by=\"JobLevel\").mean().reset_index()\n",
    "sns.barplot(data=income, x=\"JobLevel\", y=\"MonthlyIncome\")\n",
    "plt.title(\"Average Monthly Income by Job Level\")"
   ]
  },
  {
   "cell_type": "markdown",
   "id": "6e83e0a6",
   "metadata": {
    "papermill": {
     "duration": 0.01117,
     "end_time": "2023-03-19T20:20:16.241876",
     "exception": false,
     "start_time": "2023-03-19T20:20:16.230706",
     "status": "completed"
    },
    "tags": []
   },
   "source": [
    "Highest Job level seems to have a the highest monthly income with the highest income being at level 5."
   ]
  },
  {
   "cell_type": "code",
   "execution_count": 16,
   "id": "8627aecb",
   "metadata": {
    "execution": {
     "iopub.execute_input": "2023-03-19T20:20:16.266743Z",
     "iopub.status.busy": "2023-03-19T20:20:16.266327Z",
     "iopub.status.idle": "2023-03-19T20:20:16.660297Z",
     "shell.execute_reply": "2023-03-19T20:20:16.658935Z"
    },
    "papermill": {
     "duration": 0.409557,
     "end_time": "2023-03-19T20:20:16.662866",
     "exception": false,
     "start_time": "2023-03-19T20:20:16.253309",
     "status": "completed"
    },
    "tags": []
   },
   "outputs": [
    {
     "data": {
      "text/plain": [
       "<Axes: xlabel='YearsAtCompany', ylabel='MonthlyIncome'>"
      ]
     },
     "execution_count": 16,
     "metadata": {},
     "output_type": "execute_result"
    },
    {
     "data": {
      "image/png": "[encoded data removed]",
      "text/plain": [
       "<Figure size 640x480 with 1 Axes>"
      ]
     },
     "metadata": {},
     "output_type": "display_data"
    }
   ],
   "source": [
    "sns.regplot(data=df, x=\"YearsAtCompany\", y=\"MonthlyIncome\")"
   ]
  },
  {
   "cell_type": "markdown",
   "id": "b00f1f52",
   "metadata": {
    "papermill": {
     "duration": 0.012946,
     "end_time": "2023-03-19T20:20:16.689593",
     "exception": false,
     "start_time": "2023-03-19T20:20:16.676647",
     "status": "completed"
    },
    "tags": []
   },
   "source": [
    "It seems to be a high correlation between the Years at the Company and the Monthly Income. The longer an employee is at the company, the higher is their income."
   ]
  },
  {
   "cell_type": "markdown",
   "id": "4bf1510e",
   "metadata": {
    "papermill": {
     "duration": 0.013007,
     "end_time": "2023-03-19T20:20:16.716221",
     "exception": false,
     "start_time": "2023-03-19T20:20:16.703214",
     "status": "completed"
    },
    "tags": []
   },
   "source": [
    "## Feature Scaling"
   ]
  },
  {
   "cell_type": "code",
   "execution_count": 17,
   "id": "ca974724",
   "metadata": {},
   "outputs": [],
   "source": [
    "from sklearn.preprocessing import StandardScaler\n",
    "from sklearn.decomposition import PCA"
   ]
  },
  {
   "cell_type": "code",
   "execution_count": 18,
   "id": "b7177471",
   "metadata": {
    "scrolled": true
   },
   "outputs": [
    {
     "name": "stdout",
     "output_type": "stream",
     "text": [
      "<class 'pandas.core.frame.DataFrame'>\n",
      "Int64Index: 1676 entries, 0 to 1675\n",
      "Data columns (total 35 columns):\n",
      " #   Column                    Non-Null Count  Dtype \n",
      "---  ------                    --------------  ----- \n",
      " 0   EmployeeID                1676 non-null   int64 \n",
      " 1   Age                       1676 non-null   int64 \n",
      " 2   Attrition                 1676 non-null   object\n",
      " 3   BusinessTravel            1676 non-null   object\n",
      " 4   DailyRate                 1676 non-null   int64 \n",
      " 5   Department                1676 non-null   object\n",
      " 6   DistanceFromHome          1676 non-null   int64 \n",
      " 7   Education                 1676 non-null   int64 \n",
      " 8   EducationField            1676 non-null   object\n",
      " 9   EmployeeCount             1676 non-null   int64 \n",
      " 10  EnvironmentSatisfaction   1676 non-null   int64 \n",
      " 11  Gender                    1676 non-null   object\n",
      " 12  HourlyRate                1676 non-null   int64 \n",
      " 13  JobInvolvement            1676 non-null   int64 \n",
      " 14  JobLevel                  1676 non-null   int64 \n",
      " 15  JobRole                   1676 non-null   object\n",
      " 16  JobSatisfaction           1676 non-null   int64 \n",
      " 17  MaritalStatus             1676 non-null   object\n",
      " 18  MonthlyIncome             1676 non-null   int64 \n",
      " 19  MonthlyRate               1676 non-null   int64 \n",
      " 20  NumCompaniesWorked        1676 non-null   int64 \n",
      " 21  Over18                    1676 non-null   object\n",
      " 22  OverTime                  1676 non-null   object\n",
      " 23  PercentSalaryHike         1676 non-null   int64 \n",
      " 24  PerformanceRating         1676 non-null   int64 \n",
      " 25  RelationshipSatisfaction  1676 non-null   int64 \n",
      " 26  StandardHours             1676 non-null   int64 \n",
      " 27  Shift                     1676 non-null   int64 \n",
      " 28  TotalWorkingYears         1676 non-null   int64 \n",
      " 29  TrainingTimesLastYear     1676 non-null   int64 \n",
      " 30  WorkLifeBalance           1676 non-null   int64 \n",
      " 31  YearsAtCompany            1676 non-null   int64 \n",
      " 32  YearsInCurrentRole        1676 non-null   int64 \n",
      " 33  YearsSinceLastPromotion   1676 non-null   int64 \n",
      " 34  YearsWithCurrManager      1676 non-null   int64 \n",
      "dtypes: int64(26), object(9)\n",
      "memory usage: 471.4+ KB\n"
     ]
    }
   ],
   "source": [
    "df.info()"
   ]
  },
  {
   "cell_type": "code",
   "execution_count": 19,
   "id": "3226cfc8",
   "metadata": {},
   "outputs": [],
   "source": [
    "df=df.drop('Over18',axis=1)"
   ]
  },
  {
   "cell_type": "code",
   "execution_count": 20,
   "id": "22128c77",
   "metadata": {},
   "outputs": [],
   "source": [
    "from sklearn.preprocessing import LabelEncoder\n",
    "label_encoder = LabelEncoder()\n",
    "\n",
    "df['Attrition'] = label_encoder.fit_transform(df['Attrition'])"
   ]
  },
  {
   "cell_type": "code",
   "execution_count": 21,
   "id": "8a156929",
   "metadata": {},
   "outputs": [
    {
     "data": {
      "text/plain": [
       "0       0\n",
       "1       0\n",
       "2       1\n",
       "3       0\n",
       "4       0\n",
       "       ..\n",
       "1671    1\n",
       "1672    0\n",
       "1673    0\n",
       "1674    0\n",
       "1675    0\n",
       "Name: Attrition, Length: 1676, dtype: int32"
      ]
     },
     "execution_count": 21,
     "metadata": {},
     "output_type": "execute_result"
    }
   ],
   "source": [
    "df['Attrition'] "
   ]
  },
  {
   "cell_type": "code",
   "execution_count": 22,
   "id": "2463c952",
   "metadata": {},
   "outputs": [
    {
     "name": "stdout",
     "output_type": "stream",
     "text": [
      "<class 'pandas.core.frame.DataFrame'>\n",
      "Int64Index: 1676 entries, 0 to 1675\n",
      "Data columns (total 51 columns):\n",
      " #   Column                            Non-Null Count  Dtype\n",
      "---  ------                            --------------  -----\n",
      " 0   EmployeeID                        1676 non-null   int64\n",
      " 1   Age                               1676 non-null   int64\n",
      " 2   Attrition                         1676 non-null   int32\n",
      " 3   DailyRate                         1676 non-null   int64\n",
      " 4   DistanceFromHome                  1676 non-null   int64\n",
      " 5   Education                         1676 non-null   int64\n",
      " 6   EmployeeCount                     1676 non-null   int64\n",
      " 7   EnvironmentSatisfaction           1676 non-null   int64\n",
      " 8   HourlyRate                        1676 non-null   int64\n",
      " 9   JobInvolvement                    1676 non-null   int64\n",
      " 10  JobLevel                          1676 non-null   int64\n",
      " 11  JobSatisfaction                   1676 non-null   int64\n",
      " 12  MonthlyIncome                     1676 non-null   int64\n",
      " 13  MonthlyRate                       1676 non-null   int64\n",
      " 14  NumCompaniesWorked                1676 non-null   int64\n",
      " 15  PercentSalaryHike                 1676 non-null   int64\n",
      " 16  PerformanceRating                 1676 non-null   int64\n",
      " 17  RelationshipSatisfaction          1676 non-null   int64\n",
      " 18  StandardHours                     1676 non-null   int64\n",
      " 19  Shift                             1676 non-null   int64\n",
      " 20  TotalWorkingYears                 1676 non-null   int64\n",
      " 21  TrainingTimesLastYear             1676 non-null   int64\n",
      " 22  WorkLifeBalance                   1676 non-null   int64\n",
      " 23  YearsAtCompany                    1676 non-null   int64\n",
      " 24  YearsInCurrentRole                1676 non-null   int64\n",
      " 25  YearsSinceLastPromotion           1676 non-null   int64\n",
      " 26  YearsWithCurrManager              1676 non-null   int64\n",
      " 27  BusinessTravel_Non-Travel         1676 non-null   uint8\n",
      " 28  BusinessTravel_Travel_Frequently  1676 non-null   uint8\n",
      " 29  BusinessTravel_Travel_Rarely      1676 non-null   uint8\n",
      " 30  Department_Cardiology             1676 non-null   uint8\n",
      " 31  Department_Maternity              1676 non-null   uint8\n",
      " 32  Department_Neurology              1676 non-null   uint8\n",
      " 33  EducationField_Human Resources    1676 non-null   uint8\n",
      " 34  EducationField_Life Sciences      1676 non-null   uint8\n",
      " 35  EducationField_Marketing          1676 non-null   uint8\n",
      " 36  EducationField_Medical            1676 non-null   uint8\n",
      " 37  EducationField_Other              1676 non-null   uint8\n",
      " 38  EducationField_Technical Degree   1676 non-null   uint8\n",
      " 39  Gender_Female                     1676 non-null   uint8\n",
      " 40  Gender_Male                       1676 non-null   uint8\n",
      " 41  JobRole_Admin                     1676 non-null   uint8\n",
      " 42  JobRole_Administrative            1676 non-null   uint8\n",
      " 43  JobRole_Nurse                     1676 non-null   uint8\n",
      " 44  JobRole_Other                     1676 non-null   uint8\n",
      " 45  JobRole_Therapist                 1676 non-null   uint8\n",
      " 46  MaritalStatus_Divorced            1676 non-null   uint8\n",
      " 47  MaritalStatus_Married             1676 non-null   uint8\n",
      " 48  MaritalStatus_Single              1676 non-null   uint8\n",
      " 49  OverTime_No                       1676 non-null   uint8\n",
      " 50  OverTime_Yes                      1676 non-null   uint8\n",
      "dtypes: int32(1), int64(26), uint8(24)\n",
      "memory usage: 399.4 KB\n"
     ]
    }
   ],
   "source": [
    "onehdf=pd.get_dummies(df,columns=['BusinessTravel','Department','EducationField','Gender','JobRole','MaritalStatus','OverTime'])\n",
    "onehdf.info()"
   ]
  },
  {
   "cell_type": "code",
   "execution_count": 23,
   "id": "9143af3e",
   "metadata": {},
   "outputs": [],
   "source": [
    "scaler = StandardScaler()\n",
    "X= onehdf.drop('Attrition',axis=1)\n",
    "y= onehdf['Attrition']\n",
    "X_scaled = scaler.fit_transform(X)"
   ]
  },
  {
   "cell_type": "code",
   "execution_count": null,
   "id": "34e6cde3",
   "metadata": {
    "scrolled": false
   },
   "outputs": [],
   "source": []
  },
  {
   "cell_type": "code",
   "execution_count": 24,
   "id": "19fcbbe5",
   "metadata": {},
   "outputs": [],
   "source": [
    "n_components = 45 # You can change this value based on your requirement\n",
    "pca = PCA(n_components=n_components)\n",
    "\n",
    "# Fit PCA on the standardized data\n",
    "X_pca = pca.fit_transform(X_scaled)"
   ]
  },
  {
   "cell_type": "code",
   "execution_count": 25,
   "id": "8cffd791",
   "metadata": {
    "scrolled": false
   },
   "outputs": [
    {
     "name": "stdout",
     "output_type": "stream",
     "text": [
      "Explained Variance Ratio: [[-3.48620530e-01  1.69779007e+00  3.24589706e+00 ...  9.42555564e-16\n",
      "  -9.52723919e-16  3.19539406e-16]\n",
      " [ 1.99765158e-01 -1.79130659e+00 -1.75723631e+00 ... -7.10410187e-16\n",
      "  -1.75227998e-17  2.81324942e-16]\n",
      " [-2.81723491e+00 -9.81848884e-02  1.37153151e+00 ... -5.50377061e-16\n",
      "  -4.78090887e-16 -2.00979488e-16]\n",
      " ...\n",
      " [-3.29016714e+00 -1.02083679e+00  1.64069625e+00 ... -1.30499672e-16\n",
      "   2.03494880e-16 -4.48693691e-17]\n",
      " [ 4.21525368e+00 -1.18526462e+00  2.19778344e-01 ...  3.48592311e-16\n",
      "   1.20491170e-16  1.76189908e-16]\n",
      " [-2.33226981e-01  2.18260593e+00  8.97806136e-01 ... -8.99620841e-17\n",
      "   7.48989058e-17 -8.72641048e-17]]\n"
     ]
    }
   ],
   "source": [
    "explained_variance_ratio = pca.explained_variance_ratio_\n",
    "print(\"Explained Variance Ratio:\", X_pca)"
   ]
  },
  {
   "cell_type": "code",
   "execution_count": 26,
   "id": "0f8b4e69",
   "metadata": {
    "scrolled": true
   },
   "outputs": [
    {
     "data": {
      "text/html": [
       "<div>\n",
       "<style scoped>\n",
       "    .dataframe tbody tr th:only-of-type {\n",
       "        vertical-align: middle;\n",
       "    }\n",
       "\n",
       "    .dataframe tbody tr th {\n",
       "        vertical-align: top;\n",
       "    }\n",
       "\n",
       "    .dataframe thead th {\n",
       "        text-align: right;\n",
       "    }\n",
       "</style>\n",
       "<table border=\"1\" class=\"dataframe\">\n",
       "  <thead>\n",
       "    <tr style=\"text-align: right;\">\n",
       "      <th></th>\n",
       "      <th>PC1</th>\n",
       "      <th>PC2</th>\n",
       "      <th>PC3</th>\n",
       "      <th>PC4</th>\n",
       "      <th>PC5</th>\n",
       "      <th>PC6</th>\n",
       "      <th>PC7</th>\n",
       "      <th>PC8</th>\n",
       "      <th>PC9</th>\n",
       "      <th>PC10</th>\n",
       "      <th>...</th>\n",
       "      <th>PC36</th>\n",
       "      <th>PC37</th>\n",
       "      <th>PC38</th>\n",
       "      <th>PC39</th>\n",
       "      <th>PC40</th>\n",
       "      <th>PC41</th>\n",
       "      <th>PC42</th>\n",
       "      <th>PC43</th>\n",
       "      <th>PC44</th>\n",
       "      <th>PC45</th>\n",
       "    </tr>\n",
       "  </thead>\n",
       "  <tbody>\n",
       "    <tr>\n",
       "      <th>0</th>\n",
       "      <td>-0.348621</td>\n",
       "      <td>1.697790</td>\n",
       "      <td>3.245897</td>\n",
       "      <td>-0.177395</td>\n",
       "      <td>0.208306</td>\n",
       "      <td>1.305378</td>\n",
       "      <td>-0.580367</td>\n",
       "      <td>-0.918245</td>\n",
       "      <td>-0.479658</td>\n",
       "      <td>-1.873267</td>\n",
       "      <td>...</td>\n",
       "      <td>0.339467</td>\n",
       "      <td>-0.054740</td>\n",
       "      <td>-0.455344</td>\n",
       "      <td>-0.438574</td>\n",
       "      <td>-0.617138</td>\n",
       "      <td>-0.023699</td>\n",
       "      <td>-3.674772e-15</td>\n",
       "      <td>9.425556e-16</td>\n",
       "      <td>-9.527239e-16</td>\n",
       "      <td>3.195394e-16</td>\n",
       "    </tr>\n",
       "    <tr>\n",
       "      <th>1</th>\n",
       "      <td>0.199765</td>\n",
       "      <td>-1.791307</td>\n",
       "      <td>-1.757236</td>\n",
       "      <td>-0.758385</td>\n",
       "      <td>1.887540</td>\n",
       "      <td>-0.725779</td>\n",
       "      <td>0.704081</td>\n",
       "      <td>2.263163</td>\n",
       "      <td>-0.699995</td>\n",
       "      <td>-1.581311</td>\n",
       "      <td>...</td>\n",
       "      <td>0.245449</td>\n",
       "      <td>0.107127</td>\n",
       "      <td>-0.058927</td>\n",
       "      <td>-0.645555</td>\n",
       "      <td>-0.484574</td>\n",
       "      <td>0.208988</td>\n",
       "      <td>-1.644029e-16</td>\n",
       "      <td>-7.104102e-16</td>\n",
       "      <td>-1.752280e-17</td>\n",
       "      <td>2.813249e-16</td>\n",
       "    </tr>\n",
       "    <tr>\n",
       "      <th>2</th>\n",
       "      <td>-2.817235</td>\n",
       "      <td>-0.098185</td>\n",
       "      <td>1.371532</td>\n",
       "      <td>0.374725</td>\n",
       "      <td>0.353555</td>\n",
       "      <td>3.093720</td>\n",
       "      <td>-1.111124</td>\n",
       "      <td>-0.040212</td>\n",
       "      <td>-0.249303</td>\n",
       "      <td>0.353780</td>\n",
       "      <td>...</td>\n",
       "      <td>0.659290</td>\n",
       "      <td>-0.041474</td>\n",
       "      <td>0.188402</td>\n",
       "      <td>0.149060</td>\n",
       "      <td>-0.025001</td>\n",
       "      <td>0.023893</td>\n",
       "      <td>9.097149e-16</td>\n",
       "      <td>-5.503771e-16</td>\n",
       "      <td>-4.780909e-16</td>\n",
       "      <td>-2.009795e-16</td>\n",
       "    </tr>\n",
       "    <tr>\n",
       "      <th>3</th>\n",
       "      <td>-1.170514</td>\n",
       "      <td>-1.357819</td>\n",
       "      <td>2.046844</td>\n",
       "      <td>-0.019542</td>\n",
       "      <td>2.444565</td>\n",
       "      <td>-0.851771</td>\n",
       "      <td>1.078029</td>\n",
       "      <td>-1.995751</td>\n",
       "      <td>0.362978</td>\n",
       "      <td>-1.741087</td>\n",
       "      <td>...</td>\n",
       "      <td>-0.972321</td>\n",
       "      <td>1.065740</td>\n",
       "      <td>-0.464536</td>\n",
       "      <td>0.462809</td>\n",
       "      <td>-0.063456</td>\n",
       "      <td>-0.054973</td>\n",
       "      <td>-1.614464e-15</td>\n",
       "      <td>-6.462334e-16</td>\n",
       "      <td>3.803832e-16</td>\n",
       "      <td>-6.421155e-16</td>\n",
       "    </tr>\n",
       "    <tr>\n",
       "      <th>4</th>\n",
       "      <td>-1.956580</td>\n",
       "      <td>-0.048137</td>\n",
       "      <td>-1.387347</td>\n",
       "      <td>0.795515</td>\n",
       "      <td>-1.181353</td>\n",
       "      <td>0.365581</td>\n",
       "      <td>-1.199582</td>\n",
       "      <td>-0.587371</td>\n",
       "      <td>-0.346283</td>\n",
       "      <td>1.856966</td>\n",
       "      <td>...</td>\n",
       "      <td>-0.146781</td>\n",
       "      <td>-0.002542</td>\n",
       "      <td>-0.300413</td>\n",
       "      <td>0.113422</td>\n",
       "      <td>-0.017201</td>\n",
       "      <td>-0.183084</td>\n",
       "      <td>4.781872e-16</td>\n",
       "      <td>8.537826e-16</td>\n",
       "      <td>-2.989055e-16</td>\n",
       "      <td>-6.544372e-16</td>\n",
       "    </tr>\n",
       "    <tr>\n",
       "      <th>...</th>\n",
       "      <td>...</td>\n",
       "      <td>...</td>\n",
       "      <td>...</td>\n",
       "      <td>...</td>\n",
       "      <td>...</td>\n",
       "      <td>...</td>\n",
       "      <td>...</td>\n",
       "      <td>...</td>\n",
       "      <td>...</td>\n",
       "      <td>...</td>\n",
       "      <td>...</td>\n",
       "      <td>...</td>\n",
       "      <td>...</td>\n",
       "      <td>...</td>\n",
       "      <td>...</td>\n",
       "      <td>...</td>\n",
       "      <td>...</td>\n",
       "      <td>...</td>\n",
       "      <td>...</td>\n",
       "      <td>...</td>\n",
       "      <td>...</td>\n",
       "    </tr>\n",
       "    <tr>\n",
       "      <th>1671</th>\n",
       "      <td>-3.034733</td>\n",
       "      <td>0.060779</td>\n",
       "      <td>1.416860</td>\n",
       "      <td>-0.380648</td>\n",
       "      <td>0.458997</td>\n",
       "      <td>2.379946</td>\n",
       "      <td>0.279547</td>\n",
       "      <td>0.868764</td>\n",
       "      <td>1.350776</td>\n",
       "      <td>-0.116658</td>\n",
       "      <td>...</td>\n",
       "      <td>0.371501</td>\n",
       "      <td>0.066249</td>\n",
       "      <td>0.884483</td>\n",
       "      <td>0.188794</td>\n",
       "      <td>-0.002352</td>\n",
       "      <td>0.045586</td>\n",
       "      <td>1.299074e-16</td>\n",
       "      <td>5.844003e-17</td>\n",
       "      <td>8.747370e-18</td>\n",
       "      <td>4.131591e-17</td>\n",
       "    </tr>\n",
       "    <tr>\n",
       "      <th>1672</th>\n",
       "      <td>0.626791</td>\n",
       "      <td>3.117768</td>\n",
       "      <td>2.832194</td>\n",
       "      <td>2.428056</td>\n",
       "      <td>0.117271</td>\n",
       "      <td>-0.147655</td>\n",
       "      <td>0.004140</td>\n",
       "      <td>1.168510</td>\n",
       "      <td>0.186477</td>\n",
       "      <td>-0.380260</td>\n",
       "      <td>...</td>\n",
       "      <td>-0.189212</td>\n",
       "      <td>-0.164077</td>\n",
       "      <td>1.018543</td>\n",
       "      <td>-0.258517</td>\n",
       "      <td>0.210067</td>\n",
       "      <td>0.136606</td>\n",
       "      <td>-2.765688e-16</td>\n",
       "      <td>-5.548132e-18</td>\n",
       "      <td>-1.477724e-16</td>\n",
       "      <td>2.079741e-17</td>\n",
       "    </tr>\n",
       "    <tr>\n",
       "      <th>1673</th>\n",
       "      <td>-3.290167</td>\n",
       "      <td>-1.020837</td>\n",
       "      <td>1.640696</td>\n",
       "      <td>-2.104555</td>\n",
       "      <td>-1.189463</td>\n",
       "      <td>-0.383514</td>\n",
       "      <td>-0.802969</td>\n",
       "      <td>-0.878708</td>\n",
       "      <td>0.252983</td>\n",
       "      <td>-0.884832</td>\n",
       "      <td>...</td>\n",
       "      <td>-0.106887</td>\n",
       "      <td>-0.146074</td>\n",
       "      <td>-0.126574</td>\n",
       "      <td>0.132418</td>\n",
       "      <td>-0.038197</td>\n",
       "      <td>-0.023435</td>\n",
       "      <td>-3.582826e-16</td>\n",
       "      <td>-1.304997e-16</td>\n",
       "      <td>2.034949e-16</td>\n",
       "      <td>-4.486937e-17</td>\n",
       "    </tr>\n",
       "    <tr>\n",
       "      <th>1674</th>\n",
       "      <td>4.215254</td>\n",
       "      <td>-1.185265</td>\n",
       "      <td>0.219778</td>\n",
       "      <td>-1.087238</td>\n",
       "      <td>-0.400808</td>\n",
       "      <td>-2.349882</td>\n",
       "      <td>-0.123021</td>\n",
       "      <td>-0.103325</td>\n",
       "      <td>1.843967</td>\n",
       "      <td>-1.377302</td>\n",
       "      <td>...</td>\n",
       "      <td>-0.128807</td>\n",
       "      <td>-0.742407</td>\n",
       "      <td>0.462819</td>\n",
       "      <td>0.729397</td>\n",
       "      <td>-0.394163</td>\n",
       "      <td>0.175078</td>\n",
       "      <td>-1.131291e-15</td>\n",
       "      <td>3.485923e-16</td>\n",
       "      <td>1.204912e-16</td>\n",
       "      <td>1.761899e-16</td>\n",
       "    </tr>\n",
       "    <tr>\n",
       "      <th>1675</th>\n",
       "      <td>-0.233227</td>\n",
       "      <td>2.182606</td>\n",
       "      <td>0.897806</td>\n",
       "      <td>-2.346420</td>\n",
       "      <td>-0.564321</td>\n",
       "      <td>-0.927805</td>\n",
       "      <td>-0.871944</td>\n",
       "      <td>-0.377010</td>\n",
       "      <td>0.436007</td>\n",
       "      <td>1.422331</td>\n",
       "      <td>...</td>\n",
       "      <td>-0.045503</td>\n",
       "      <td>0.202547</td>\n",
       "      <td>0.096246</td>\n",
       "      <td>-0.226909</td>\n",
       "      <td>0.266820</td>\n",
       "      <td>-0.133069</td>\n",
       "      <td>9.698548e-16</td>\n",
       "      <td>-8.996208e-17</td>\n",
       "      <td>7.489891e-17</td>\n",
       "      <td>-8.726410e-17</td>\n",
       "    </tr>\n",
       "  </tbody>\n",
       "</table>\n",
       "<p>1676 rows × 45 columns</p>\n",
       "</div>"
      ],
      "text/plain": [
       "           PC1       PC2       PC3       PC4       PC5       PC6       PC7  \\\n",
       "0    -0.348621  1.697790  3.245897 -0.177395  0.208306  1.305378 -0.580367   \n",
       "1     0.199765 -1.791307 -1.757236 -0.758385  1.887540 -0.725779  0.704081   \n",
       "2    -2.817235 -0.098185  1.371532  0.374725  0.353555  3.093720 -1.111124   \n",
       "3    -1.170514 -1.357819  2.046844 -0.019542  2.444565 -0.851771  1.078029   \n",
       "4    -1.956580 -0.048137 -1.387347  0.795515 -1.181353  0.365581 -1.199582   \n",
       "...        ...       ...       ...       ...       ...       ...       ...   \n",
       "1671 -3.034733  0.060779  1.416860 -0.380648  0.458997  2.379946  0.279547   \n",
       "1672  0.626791  3.117768  2.832194  2.428056  0.117271 -0.147655  0.004140   \n",
       "1673 -3.290167 -1.020837  1.640696 -2.104555 -1.189463 -0.383514 -0.802969   \n",
       "1674  4.215254 -1.185265  0.219778 -1.087238 -0.400808 -2.349882 -0.123021   \n",
       "1675 -0.233227  2.182606  0.897806 -2.346420 -0.564321 -0.927805 -0.871944   \n",
       "\n",
       "           PC8       PC9      PC10  ...      PC36      PC37      PC38  \\\n",
       "0    -0.918245 -0.479658 -1.873267  ...  0.339467 -0.054740 -0.455344   \n",
       "1     2.263163 -0.699995 -1.581311  ...  0.245449  0.107127 -0.058927   \n",
       "2    -0.040212 -0.249303  0.353780  ...  0.659290 -0.041474  0.188402   \n",
       "3    -1.995751  0.362978 -1.741087  ... -0.972321  1.065740 -0.464536   \n",
       "4    -0.587371 -0.346283  1.856966  ... -0.146781 -0.002542 -0.300413   \n",
       "...        ...       ...       ...  ...       ...       ...       ...   \n",
       "1671  0.868764  1.350776 -0.116658  ...  0.371501  0.066249  0.884483   \n",
       "1672  1.168510  0.186477 -0.380260  ... -0.189212 -0.164077  1.018543   \n",
       "1673 -0.878708  0.252983 -0.884832  ... -0.106887 -0.146074 -0.126574   \n",
       "1674 -0.103325  1.843967 -1.377302  ... -0.128807 -0.742407  0.462819   \n",
       "1675 -0.377010  0.436007  1.422331  ... -0.045503  0.202547  0.096246   \n",
       "\n",
       "          PC39      PC40      PC41          PC42          PC43          PC44  \\\n",
       "0    -0.438574 -0.617138 -0.023699 -3.674772e-15  9.425556e-16 -9.527239e-16   \n",
       "1    -0.645555 -0.484574  0.208988 -1.644029e-16 -7.104102e-16 -1.752280e-17   \n",
       "2     0.149060 -0.025001  0.023893  9.097149e-16 -5.503771e-16 -4.780909e-16   \n",
       "3     0.462809 -0.063456 -0.054973 -1.614464e-15 -6.462334e-16  3.803832e-16   \n",
       "4     0.113422 -0.017201 -0.183084  4.781872e-16  8.537826e-16 -2.989055e-16   \n",
       "...        ...       ...       ...           ...           ...           ...   \n",
       "1671  0.188794 -0.002352  0.045586  1.299074e-16  5.844003e-17  8.747370e-18   \n",
       "1672 -0.258517  0.210067  0.136606 -2.765688e-16 -5.548132e-18 -1.477724e-16   \n",
       "1673  0.132418 -0.038197 -0.023435 -3.582826e-16 -1.304997e-16  2.034949e-16   \n",
       "1674  0.729397 -0.394163  0.175078 -1.131291e-15  3.485923e-16  1.204912e-16   \n",
       "1675 -0.226909  0.266820 -0.133069  9.698548e-16 -8.996208e-17  7.489891e-17   \n",
       "\n",
       "              PC45  \n",
       "0     3.195394e-16  \n",
       "1     2.813249e-16  \n",
       "2    -2.009795e-16  \n",
       "3    -6.421155e-16  \n",
       "4    -6.544372e-16  \n",
       "...            ...  \n",
       "1671  4.131591e-17  \n",
       "1672  2.079741e-17  \n",
       "1673 -4.486937e-17  \n",
       "1674  1.761899e-16  \n",
       "1675 -8.726410e-17  \n",
       "\n",
       "[1676 rows x 45 columns]"
      ]
     },
     "execution_count": 26,
     "metadata": {},
     "output_type": "execute_result"
    }
   ],
   "source": [
    "principal_components_df = pd.DataFrame(data=X_pca, columns=[f'PC{i+1}' for i in range(n_components)])\n",
    "principal_components_df\n",
    "# If you have the target variable in your original DataFrame, you can add it to the new DataFrame"
   ]
  },
  {
   "cell_type": "code",
   "execution_count": 27,
   "id": "e1f262f1",
   "metadata": {
    "scrolled": true
   },
   "outputs": [
    {
     "data": {
      "image/png": "[encoded data removed]",
      "text/plain": [
       "<Figure size 640x480 with 1 Axes>"
      ]
     },
     "metadata": {},
     "output_type": "display_data"
    }
   ],
   "source": [
    "plt.bar(range(1, n_components + 1), explained_variance_ratio)\n",
    "plt.xlabel('Principal Components')\n",
    "plt.ylabel('Explained Variance Ratio')\n",
    "plt.title('Explained Variance Ratio per Principal Component')\n",
    "plt.show()"
   ]
  },
  {
   "cell_type": "code",
   "execution_count": 28,
   "id": "4a4983bf",
   "metadata": {
    "scrolled": true
   },
   "outputs": [
    {
     "data": {
      "text/plain": [
       "0       0\n",
       "1       0\n",
       "2       1\n",
       "3       0\n",
       "4       0\n",
       "       ..\n",
       "1671    1\n",
       "1672    0\n",
       "1673    0\n",
       "1674    0\n",
       "1675    0\n",
       "Name: Attrition, Length: 1676, dtype: int32"
      ]
     },
     "execution_count": 28,
     "metadata": {},
     "output_type": "execute_result"
    }
   ],
   "source": [
    "y"
   ]
  },
  {
   "cell_type": "code",
   "execution_count": 29,
   "id": "a01292fb",
   "metadata": {},
   "outputs": [],
   "source": [
    "from sklearn.model_selection import train_test_split"
   ]
  },
  {
   "cell_type": "code",
   "execution_count": 30,
   "id": "11041354",
   "metadata": {},
   "outputs": [],
   "source": [
    "X_train, X_test, y_train, y_test = train_test_split(X_scaled, y, test_size=0.3, random_state=42)"
   ]
  },
  {
   "cell_type": "code",
   "execution_count": 31,
   "id": "aa555d71",
   "metadata": {
    "scrolled": false
   },
   "outputs": [
    {
     "data": {
      "text/plain": [
       "array([[-0.90349757, -1.08107761, -0.27288868, ..., -0.67256203,\n",
       "         0.62981479, -0.62981479],\n",
       "       [ 0.61418174, -0.53321656,  1.14189568, ...,  1.4868517 ,\n",
       "         0.62981479, -0.62981479],\n",
       "       [-0.66593794, -0.42364435, -1.62789341, ..., -0.67256203,\n",
       "         0.62981479, -0.62981479],\n",
       "       ...,\n",
       "       [-0.71236411, -0.42364435, -1.62789341, ..., -0.67256203,\n",
       "         0.62981479, -0.62981479],\n",
       "       [ 0.68220644, -0.64278877, -1.18452789, ...,  1.4868517 ,\n",
       "         0.62981479, -0.62981479],\n",
       "       [ 1.60603694,  0.56250555,  0.64373217, ...,  1.4868517 ,\n",
       "         0.62981479, -0.62981479]])"
      ]
     },
     "execution_count": 31,
     "metadata": {},
     "output_type": "execute_result"
    }
   ],
   "source": [
    "X_train"
   ]
  },
  {
   "cell_type": "code",
   "execution_count": 32,
   "id": "6b560ca0",
   "metadata": {
    "scrolled": true
   },
   "outputs": [
    {
     "data": {
      "text/plain": [
       "1622    0\n",
       "1202    0\n",
       "221     0\n",
       "113     0\n",
       "706     0\n",
       "       ..\n",
       "1130    0\n",
       "1294    0\n",
       "860     0\n",
       "1459    0\n",
       "1126    0\n",
       "Name: Attrition, Length: 1173, dtype: int32"
      ]
     },
     "execution_count": 32,
     "metadata": {},
     "output_type": "execute_result"
    }
   ],
   "source": [
    "y_train"
   ]
  },
  {
   "cell_type": "code",
   "execution_count": 33,
   "id": "35dd8674",
   "metadata": {},
   "outputs": [],
   "source": [
    "from sklearn.linear_model import LogisticRegression"
   ]
  },
  {
   "cell_type": "code",
   "execution_count": 34,
   "id": "a586f8a3",
   "metadata": {},
   "outputs": [
    {
     "data": {
      "text/html": [
       "<style>#sk-container-id-1 {color: black;background-color: white;}#sk-container-id-1 pre{padding: 0;}#sk-container-id-1 div.sk-toggleable {background-color: white;}#sk-container-id-1 label.sk-toggleable__label {cursor: pointer;display: block;width: 100%;margin-bottom: 0;padding: 0.3em;box-sizing: border-box;text-align: center;}#sk-container-id-1 label.sk-toggleable__label-arrow:before {content: \"▸\";float: left;margin-right: 0.25em;color: #696969;}#sk-container-id-1 label.sk-toggleable__label-arrow:hover:before {color: black;}#sk-container-id-1 div.sk-estimator:hover label.sk-toggleable__label-arrow:before {color: black;}#sk-container-id-1 div.sk-toggleable__content {max-height: 0;max-width: 0;overflow: hidden;text-align: left;background-color: #f0f8ff;}#sk-container-id-1 div.sk-toggleable__content pre {margin: 0.2em;color: black;border-radius: 0.25em;background-color: #f0f8ff;}#sk-container-id-1 input.sk-toggleable__control:checked~div.sk-toggleable__content {max-height: 200px;max-width: 100%;overflow: auto;}#sk-container-id-1 input.sk-toggleable__control:checked~label.sk-toggleable__label-arrow:before {content: \"▾\";}#sk-container-id-1 div.sk-estimator input.sk-toggleable__control:checked~label.sk-toggleable__label {background-color: #d4ebff;}#sk-container-id-1 div.sk-label input.sk-toggleable__control:checked~label.sk-toggleable__label {background-color: #d4ebff;}#sk-container-id-1 input.sk-hidden--visually {border: 0;clip: rect(1px 1px 1px 1px);clip: rect(1px, 1px, 1px, 1px);height: 1px;margin: -1px;overflow: hidden;padding: 0;position: absolute;width: 1px;}#sk-container-id-1 div.sk-estimator {font-family: monospace;background-color: #f0f8ff;border: 1px dotted black;border-radius: 0.25em;box-sizing: border-box;margin-bottom: 0.5em;}#sk-container-id-1 div.sk-estimator:hover {background-color: #d4ebff;}#sk-container-id-1 div.sk-parallel-item::after {content: \"\";width: 100%;border-bottom: 1px solid gray;flex-grow: 1;}#sk-container-id-1 div.sk-label:hover label.sk-toggleable__label {background-color: #d4ebff;}#sk-container-id-1 div.sk-serial::before {content: \"\";position: absolute;border-left: 1px solid gray;box-sizing: border-box;top: 0;bottom: 0;left: 50%;z-index: 0;}#sk-container-id-1 div.sk-serial {display: flex;flex-direction: column;align-items: center;background-color: white;padding-right: 0.2em;padding-left: 0.2em;position: relative;}#sk-container-id-1 div.sk-item {position: relative;z-index: 1;}#sk-container-id-1 div.sk-parallel {display: flex;align-items: stretch;justify-content: center;background-color: white;position: relative;}#sk-container-id-1 div.sk-item::before, #sk-container-id-1 div.sk-parallel-item::before {content: \"\";position: absolute;border-left: 1px solid gray;box-sizing: border-box;top: 0;bottom: 0;left: 50%;z-index: -1;}#sk-container-id-1 div.sk-parallel-item {display: flex;flex-direction: column;z-index: 1;position: relative;background-color: white;}#sk-container-id-1 div.sk-parallel-item:first-child::after {align-self: flex-end;width: 50%;}#sk-container-id-1 div.sk-parallel-item:last-child::after {align-self: flex-start;width: 50%;}#sk-container-id-1 div.sk-parallel-item:only-child::after {width: 0;}#sk-container-id-1 div.sk-dashed-wrapped {border: 1px dashed gray;margin: 0 0.4em 0.5em 0.4em;box-sizing: border-box;padding-bottom: 0.4em;background-color: white;}#sk-container-id-1 div.sk-label label {font-family: monospace;font-weight: bold;display: inline-block;line-height: 1.2em;}#sk-container-id-1 div.sk-label-container {text-align: center;}#sk-container-id-1 div.sk-container {/* jupyter's `normalize.less` sets `[hidden] { display: none; }` but bootstrap.min.css set `[hidden] { display: none !important; }` so we also need the `!important` here to be able to override the default hidden behavior on the sphinx rendered scikit-learn.org. See: https://github.com/scikit-learn/scikit-learn/issues/21755 */display: inline-block !important;position: relative;}#sk-container-id-1 div.sk-text-repr-fallback {display: none;}</style><div id=\"sk-container-id-1\" class=\"sk-top-container\"><div class=\"sk-text-repr-fallback\"><pre>LogisticRegression()</pre><b>In a Jupyter environment, please rerun this cell to show the HTML representation or trust the notebook. <br />On GitHub, the HTML representation is unable to render, please try loading this page with nbviewer.org.</b></div><div class=\"sk-container\" hidden><div class=\"sk-item\"><div class=\"sk-estimator sk-toggleable\"><input class=\"sk-toggleable__control sk-hidden--visually\" id=\"sk-estimator-id-1\" type=\"checkbox\" checked><label for=\"sk-estimator-id-1\" class=\"sk-toggleable__label sk-toggleable__label-arrow\">LogisticRegression</label><div class=\"sk-toggleable__content\"><pre>LogisticRegression()</pre></div></div></div></div></div>"
      ],
      "text/plain": [
       "LogisticRegression()"
      ]
     },
     "execution_count": 34,
     "metadata": {},
     "output_type": "execute_result"
    }
   ],
   "source": [
    "from sklearn.linear_model import LinearRegression\n",
    "\n",
    "# Create the linear regression model\n",
    "model = LogisticRegression()\n",
    "\n",
    "# Fit the model on the training data\n",
    "model.fit(X_train,y_train)\n"
   ]
  },
  {
   "cell_type": "code",
   "execution_count": null,
   "id": "4e2616d2",
   "metadata": {},
   "outputs": [],
   "source": []
  },
  {
   "cell_type": "code",
   "execution_count": 35,
   "id": "ada42901",
   "metadata": {},
   "outputs": [
    {
     "data": {
      "text/plain": [
       "1622    0\n",
       "1202    0\n",
       "221     0\n",
       "113     0\n",
       "706     0\n",
       "       ..\n",
       "1130    0\n",
       "1294    0\n",
       "860     0\n",
       "1459    0\n",
       "1126    0\n",
       "Name: Attrition, Length: 1173, dtype: int32"
      ]
     },
     "execution_count": 35,
     "metadata": {},
     "output_type": "execute_result"
    }
   ],
   "source": [
    "y_train"
   ]
  },
  {
   "cell_type": "code",
   "execution_count": 36,
   "id": "00512163",
   "metadata": {},
   "outputs": [
    {
     "name": "stdout",
     "output_type": "stream",
     "text": [
      "R-squared: 0.30284130284130284\n",
      "Mean Squared Error: 0.0874751491053678\n"
     ]
    }
   ],
   "source": [
    "# Predict on the test data\n",
    "y_pred = model.predict(X_test)\n",
    "\n",
    "# Calculate evaluation metrics (e.g., R-squared, mean squared error)\n",
    "from sklearn.metrics import r2_score, mean_squared_error\n",
    "\n",
    "r2 = r2_score(y_test, y_pred)\n",
    "mse = mean_squared_error(y_test, y_pred)\n",
    "\n",
    "print(\"R-squared:\", r2)\n",
    "print(\"Mean Squared Error:\", mse)\n"
   ]
  },
  {
   "cell_type": "code",
   "execution_count": 37,
   "id": "e5b2ed3a",
   "metadata": {},
   "outputs": [
    {
     "data": {
      "text/plain": [
       "array([0, 1, 0, 0, 0, 0, 0, 0, 0, 0, 0, 0, 0, 0, 0, 0, 0, 0, 0, 0, 0, 0,\n",
       "       0, 0, 0, 0, 0, 0, 0, 0, 0, 0, 0, 0, 0, 0, 0, 0, 1, 0, 0, 0, 1, 0,\n",
       "       0, 1, 0, 0, 0, 0, 0, 0, 0, 0, 0, 0, 0, 0, 0, 1, 0, 0, 0, 0, 1, 1,\n",
       "       0, 0, 0, 0, 0, 0, 0, 0, 1, 0, 0, 0, 0, 0, 0, 1, 0, 0, 0, 0, 0, 0,\n",
       "       1, 0, 0, 0, 0, 0, 0, 0, 0, 0, 0, 0, 0, 0, 0, 0, 0, 1, 0, 0, 0, 0,\n",
       "       1, 0, 0, 0, 0, 0, 0, 0, 0, 0, 0, 0, 0, 0, 0, 0, 0, 0, 0, 0, 0, 0,\n",
       "       0, 0, 0, 0, 0, 0, 0, 1, 0, 0, 0, 0, 0, 0, 1, 0, 0, 1, 0, 0, 0, 0,\n",
       "       0, 0, 0, 1, 0, 0, 0, 0, 1, 0, 0, 1, 0, 0, 0, 0, 1, 0, 0, 0, 1, 0,\n",
       "       0, 0, 0, 0, 0, 0, 0, 0, 0, 1, 0, 0, 0, 0, 0, 0, 0, 0, 0, 0, 0, 0,\n",
       "       0, 0, 0, 1, 0, 0, 0, 0, 0, 0, 0, 0, 0, 0, 0, 0, 0, 0, 0, 0, 0, 0,\n",
       "       0, 0, 0, 0, 0, 0, 1, 0, 0, 0, 0, 0, 0, 0, 0, 0, 0, 0, 0, 0, 0, 0,\n",
       "       1, 0, 0, 0, 0, 0, 0, 0, 1, 0, 0, 0, 0, 0, 0, 0, 0, 0, 0, 0, 0, 0,\n",
       "       0, 0, 0, 0, 0, 0, 0, 0, 0, 0, 0, 0, 0, 0, 0, 0, 0, 1, 0, 0, 0, 0,\n",
       "       0, 0, 0, 0, 0, 0, 1, 0, 0, 0, 0, 1, 0, 0, 0, 0, 1, 0, 0, 0, 0, 0,\n",
       "       0, 0, 0, 1, 0, 0, 0, 0, 0, 1, 0, 0, 0, 0, 1, 1, 0, 1, 0, 0, 0, 0,\n",
       "       0, 0, 0, 0, 0, 0, 0, 0, 0, 0, 0, 0, 0, 0, 1, 0, 1, 0, 0, 1, 0, 0,\n",
       "       0, 1, 0, 0, 0, 0, 0, 1, 0, 1, 0, 0, 1, 0, 0, 0, 0, 1, 0, 0, 1, 0,\n",
       "       1, 0, 0, 0, 0, 0, 0, 0, 1, 0, 0, 0, 0, 0, 0, 0, 0, 0, 0, 0, 1, 0,\n",
       "       0, 0, 0, 0, 0, 0, 0, 0, 0, 1, 0, 0, 1, 1, 0, 1, 0, 0, 0, 0, 0, 0,\n",
       "       0, 0, 0, 0, 0, 0, 0, 0, 0, 0, 0, 0, 0, 0, 0, 0, 0, 0, 0, 1, 0, 0,\n",
       "       1, 0, 0, 0, 0, 0, 0, 0, 0, 0, 0, 0, 0, 0, 0, 0, 0, 1, 0, 0, 0, 0,\n",
       "       1, 0, 0, 0, 0, 0, 0, 0, 0, 0, 0, 1, 0, 0, 0, 0, 0, 0, 0, 0, 0, 1,\n",
       "       0, 1, 0, 0, 0, 0, 0, 0, 0, 0, 0, 0, 0, 1, 0, 0, 1, 1, 0])"
      ]
     },
     "execution_count": 37,
     "metadata": {},
     "output_type": "execute_result"
    }
   ],
   "source": [
    "y_pred"
   ]
  },
  {
   "cell_type": "code",
   "execution_count": 38,
   "id": "8d3c7ad8",
   "metadata": {},
   "outputs": [],
   "source": [
    "from sklearn.metrics import classification_report"
   ]
  },
  {
   "cell_type": "code",
   "execution_count": 39,
   "id": "f3fe0af0",
   "metadata": {},
   "outputs": [
    {
     "data": {
      "text/plain": [
       "0.9125248508946322"
      ]
     },
     "execution_count": 39,
     "metadata": {},
     "output_type": "execute_result"
    }
   ],
   "source": [
    "from sklearn.metrics import accuracy_score\n",
    "accuracy_score(y_test, y_pred)"
   ]
  },
  {
   "cell_type": "code",
   "execution_count": 40,
   "id": "99059bc0",
   "metadata": {
    "scrolled": false
   },
   "outputs": [
    {
     "name": "stdout",
     "output_type": "stream",
     "text": [
      "              precision    recall  f1-score   support\n",
      "\n",
      "           0       0.93      0.97      0.95       429\n",
      "           1       0.75      0.61      0.67        74\n",
      "\n",
      "    accuracy                           0.91       503\n",
      "   macro avg       0.84      0.79      0.81       503\n",
      "weighted avg       0.91      0.91      0.91       503\n",
      "\n"
     ]
    }
   ],
   "source": [
    "report_multiclass = classification_report(y_test, y_pred)\n",
    "print(report_multiclass)"
   ]
  },
  {
   "cell_type": "code",
   "execution_count": 41,
   "id": "e358e9a4",
   "metadata": {},
   "outputs": [],
   "source": [
    "from sklearn.metrics import confusion_matrix"
   ]
  },
  {
   "cell_type": "code",
   "execution_count": 42,
   "id": "bb556276",
   "metadata": {
    "scrolled": true
   },
   "outputs": [
    {
     "data": {
      "text/plain": [
       "array([[414,  15],\n",
       "       [ 29,  45]], dtype=int64)"
      ]
     },
     "execution_count": 42,
     "metadata": {},
     "output_type": "execute_result"
    }
   ],
   "source": [
    "confusion_matrix(y_test, y_pred)"
   ]
  },
  {
   "cell_type": "code",
   "execution_count": 43,
   "id": "6833de00",
   "metadata": {},
   "outputs": [],
   "source": [
    "from sklearn.metrics import roc_curve, roc_auc_score\n",
    "import matplotlib.pyplot as plt\n",
    "\n",
    "fpr, tpr, thresholds = roc_curve(y_test, y_pred)\n",
    "roc_auc = roc_auc_score(y_test, y_pred)"
   ]
  },
  {
   "cell_type": "code",
   "execution_count": 44,
   "id": "3916c605",
   "metadata": {},
   "outputs": [
    {
     "data": {
      "text/plain": [
       "0.7865715365715366"
      ]
     },
     "execution_count": 44,
     "metadata": {},
     "output_type": "execute_result"
    }
   ],
   "source": [
    "roc_auc"
   ]
  },
  {
   "cell_type": "code",
   "execution_count": 45,
   "id": "218c28cc",
   "metadata": {
    "scrolled": true
   },
   "outputs": [
    {
     "data": {
      "image/png": "[encoded data removed]",
      "text/plain": [
       "<Figure size 640x480 with 1 Axes>"
      ]
     },
     "metadata": {},
     "output_type": "display_data"
    }
   ],
   "source": [
    "plt.figure()\n",
    "plt.plot(fpr, tpr, color='red', lw=3, label='ROC curve (area = %0.2f)' % roc_auc)\n",
    "plt.plot([0, 1], [0, 1], color='navy', lw=2, linestyle='--')\n",
    "plt.xlim([0.0, 1.0])\n",
    "plt.ylim([0.0, 1.05])\n",
    "plt.xlabel('False Positive Rate')\n",
    "plt.ylabel('True Positive Rate')\n",
    "plt.title('Receiver Operating Characteristic (ROC)')\n",
    "plt.legend(loc='lower right')\n",
    "plt.show()"
   ]
  },
  {
   "cell_type": "code",
   "execution_count": null,
   "id": "062a6e38",
   "metadata": {},
   "outputs": [],
   "source": []
  },
  {
   "cell_type": "code",
   "execution_count": 46,
   "id": "4fda4b32",
   "metadata": {},
   "outputs": [],
   "source": [
    "from sklearn.neighbors import KNeighborsClassifier"
   ]
  },
  {
   "cell_type": "code",
   "execution_count": 47,
   "id": "3b262ce7",
   "metadata": {},
   "outputs": [],
   "source": [
    "knn = KNeighborsClassifier(n_neighbors=2)"
   ]
  },
  {
   "cell_type": "code",
   "execution_count": 48,
   "id": "c05d6218",
   "metadata": {},
   "outputs": [
    {
     "data": {
      "text/html": [
       "<style>#sk-container-id-2 {color: black;background-color: white;}#sk-container-id-2 pre{padding: 0;}#sk-container-id-2 div.sk-toggleable {background-color: white;}#sk-container-id-2 label.sk-toggleable__label {cursor: pointer;display: block;width: 100%;margin-bottom: 0;padding: 0.3em;box-sizing: border-box;text-align: center;}#sk-container-id-2 label.sk-toggleable__label-arrow:before {content: \"▸\";float: left;margin-right: 0.25em;color: #696969;}#sk-container-id-2 label.sk-toggleable__label-arrow:hover:before {color: black;}#sk-container-id-2 div.sk-estimator:hover label.sk-toggleable__label-arrow:before {color: black;}#sk-container-id-2 div.sk-toggleable__content {max-height: 0;max-width: 0;overflow: hidden;text-align: left;background-color: #f0f8ff;}#sk-container-id-2 div.sk-toggleable__content pre {margin: 0.2em;color: black;border-radius: 0.25em;background-color: #f0f8ff;}#sk-container-id-2 input.sk-toggleable__control:checked~div.sk-toggleable__content {max-height: 200px;max-width: 100%;overflow: auto;}#sk-container-id-2 input.sk-toggleable__control:checked~label.sk-toggleable__label-arrow:before {content: \"▾\";}#sk-container-id-2 div.sk-estimator input.sk-toggleable__control:checked~label.sk-toggleable__label {background-color: #d4ebff;}#sk-container-id-2 div.sk-label input.sk-toggleable__control:checked~label.sk-toggleable__label {background-color: #d4ebff;}#sk-container-id-2 input.sk-hidden--visually {border: 0;clip: rect(1px 1px 1px 1px);clip: rect(1px, 1px, 1px, 1px);height: 1px;margin: -1px;overflow: hidden;padding: 0;position: absolute;width: 1px;}#sk-container-id-2 div.sk-estimator {font-family: monospace;background-color: #f0f8ff;border: 1px dotted black;border-radius: 0.25em;box-sizing: border-box;margin-bottom: 0.5em;}#sk-container-id-2 div.sk-estimator:hover {background-color: #d4ebff;}#sk-container-id-2 div.sk-parallel-item::after {content: \"\";width: 100%;border-bottom: 1px solid gray;flex-grow: 1;}#sk-container-id-2 div.sk-label:hover label.sk-toggleable__label {background-color: #d4ebff;}#sk-container-id-2 div.sk-serial::before {content: \"\";position: absolute;border-left: 1px solid gray;box-sizing: border-box;top: 0;bottom: 0;left: 50%;z-index: 0;}#sk-container-id-2 div.sk-serial {display: flex;flex-direction: column;align-items: center;background-color: white;padding-right: 0.2em;padding-left: 0.2em;position: relative;}#sk-container-id-2 div.sk-item {position: relative;z-index: 1;}#sk-container-id-2 div.sk-parallel {display: flex;align-items: stretch;justify-content: center;background-color: white;position: relative;}#sk-container-id-2 div.sk-item::before, #sk-container-id-2 div.sk-parallel-item::before {content: \"\";position: absolute;border-left: 1px solid gray;box-sizing: border-box;top: 0;bottom: 0;left: 50%;z-index: -1;}#sk-container-id-2 div.sk-parallel-item {display: flex;flex-direction: column;z-index: 1;position: relative;background-color: white;}#sk-container-id-2 div.sk-parallel-item:first-child::after {align-self: flex-end;width: 50%;}#sk-container-id-2 div.sk-parallel-item:last-child::after {align-self: flex-start;width: 50%;}#sk-container-id-2 div.sk-parallel-item:only-child::after {width: 0;}#sk-container-id-2 div.sk-dashed-wrapped {border: 1px dashed gray;margin: 0 0.4em 0.5em 0.4em;box-sizing: border-box;padding-bottom: 0.4em;background-color: white;}#sk-container-id-2 div.sk-label label {font-family: monospace;font-weight: bold;display: inline-block;line-height: 1.2em;}#sk-container-id-2 div.sk-label-container {text-align: center;}#sk-container-id-2 div.sk-container {/* jupyter's `normalize.less` sets `[hidden] { display: none; }` but bootstrap.min.css set `[hidden] { display: none !important; }` so we also need the `!important` here to be able to override the default hidden behavior on the sphinx rendered scikit-learn.org. See: https://github.com/scikit-learn/scikit-learn/issues/21755 */display: inline-block !important;position: relative;}#sk-container-id-2 div.sk-text-repr-fallback {display: none;}</style><div id=\"sk-container-id-2\" class=\"sk-top-container\"><div class=\"sk-text-repr-fallback\"><pre>KNeighborsClassifier(n_neighbors=2)</pre><b>In a Jupyter environment, please rerun this cell to show the HTML representation or trust the notebook. <br />On GitHub, the HTML representation is unable to render, please try loading this page with nbviewer.org.</b></div><div class=\"sk-container\" hidden><div class=\"sk-item\"><div class=\"sk-estimator sk-toggleable\"><input class=\"sk-toggleable__control sk-hidden--visually\" id=\"sk-estimator-id-2\" type=\"checkbox\" checked><label for=\"sk-estimator-id-2\" class=\"sk-toggleable__label sk-toggleable__label-arrow\">KNeighborsClassifier</label><div class=\"sk-toggleable__content\"><pre>KNeighborsClassifier(n_neighbors=2)</pre></div></div></div></div></div>"
      ],
      "text/plain": [
       "KNeighborsClassifier(n_neighbors=2)"
      ]
     },
     "execution_count": 48,
     "metadata": {},
     "output_type": "execute_result"
    }
   ],
   "source": [
    "knn.fit(X_train, y_train)"
   ]
  },
  {
   "cell_type": "code",
   "execution_count": 49,
   "id": "7cd78f71",
   "metadata": {},
   "outputs": [],
   "source": [
    "y_pred1 = knn.predict(X_test)"
   ]
  },
  {
   "cell_type": "code",
   "execution_count": 50,
   "id": "0919d2cc",
   "metadata": {
    "scrolled": false
   },
   "outputs": [
    {
     "data": {
      "text/plain": [
       "array([[424,   5],\n",
       "       [ 63,  11]], dtype=int64)"
      ]
     },
     "execution_count": 50,
     "metadata": {},
     "output_type": "execute_result"
    }
   ],
   "source": [
    "confusion_matrix(y_test, y_pred1)"
   ]
  },
  {
   "cell_type": "code",
   "execution_count": 52,
   "id": "dcc7bd42",
   "metadata": {},
   "outputs": [
    {
     "data": {
      "text/plain": [
       "0.13518886679920478"
      ]
     },
     "execution_count": 52,
     "metadata": {},
     "output_type": "execute_result"
    }
   ],
   "source": [
    "r2 = r2_score(y_test, y_pred1)\n",
    "mse = mean_squared_error(y_test, y_pred1)\n",
    "mse"
   ]
  },
  {
   "cell_type": "code",
   "execution_count": 53,
   "id": "a54f9994",
   "metadata": {},
   "outputs": [
    {
     "data": {
      "text/plain": [
       "-0.07742707742707733"
      ]
     },
     "execution_count": 53,
     "metadata": {},
     "output_type": "execute_result"
    }
   ],
   "source": [
    "r2"
   ]
  },
  {
   "cell_type": "code",
   "execution_count": 52,
   "id": "aa4124e2",
   "metadata": {},
   "outputs": [
    {
     "name": "stdout",
     "output_type": "stream",
     "text": [
      "Accuracy: 0.8648111332007953\n"
     ]
    }
   ],
   "source": [
    "accuracy1 = accuracy_score(y_test, y_pred1)\n",
    "print(\"Accuracy:\", accuracy1)"
   ]
  },
  {
   "cell_type": "code",
   "execution_count": 53,
   "id": "48749e58",
   "metadata": {},
   "outputs": [],
   "source": [
    "report1 = classification_report(y_test, y_pred1)"
   ]
  },
  {
   "cell_type": "code",
   "execution_count": 86,
   "id": "e57cb77c",
   "metadata": {},
   "outputs": [],
   "source": [
    "fpr1, tpr1, thresholds1 = roc_curve(y_test, y_pred1)\n",
    "roc_auc1 = roc_auc_score(y_test, y_pred1)"
   ]
  },
  {
   "cell_type": "code",
   "execution_count": 87,
   "id": "d2d3a8e1",
   "metadata": {},
   "outputs": [
    {
     "data": {
      "text/plain": [
       "0.5684968184968185"
      ]
     },
     "execution_count": 87,
     "metadata": {},
     "output_type": "execute_result"
    }
   ],
   "source": [
    "roc_auc1"
   ]
  },
  {
   "cell_type": "code",
   "execution_count": 90,
   "id": "030f20eb",
   "metadata": {},
   "outputs": [
    {
     "data": {
      "image/png": "[encoded data removed]",
      "text/plain": [
       "<Figure size 640x480 with 1 Axes>"
      ]
     },
     "metadata": {},
     "output_type": "display_data"
    }
   ],
   "source": [
    "plt.figure()\n",
    "plt.plot(fpr1, tpr1, color='red', lw=3, label='ROC curve (area = %0.2f)' % roc_auc1)\n",
    "plt.plot([0, 1], [0, 1], color='navy', lw=2, linestyle='--')\n",
    "plt.xlim([0.0, 1.0])\n",
    "plt.ylim([0.0, 1.05])\n",
    "plt.xlabel('False Positive Rate')\n",
    "plt.ylabel('True Positive Rate')\n",
    "plt.title('Receiver Operating Characteristic (ROC)')\n",
    "plt.legend(loc='lower right')\n",
    "plt.show()"
   ]
  },
  {
   "cell_type": "code",
   "execution_count": 54,
   "id": "f8d55a20",
   "metadata": {},
   "outputs": [
    {
     "name": "stdout",
     "output_type": "stream",
     "text": [
      "Requirement already satisfied: xgboost in c:\\users\\aarya\\anaconda3\\lib\\site-packages (1.7.6)\n",
      "Requirement already satisfied: numpy in c:\\users\\aarya\\anaconda3\\lib\\site-packages (from xgboost) (1.23.5)\n",
      "Requirement already satisfied: scipy in c:\\users\\aarya\\anaconda3\\lib\\site-packages (from xgboost) (1.10.0)\n",
      "Note: you may need to restart the kernel to use updated packages.\n"
     ]
    },
    {
     "name": "stderr",
     "output_type": "stream",
     "text": [
      "\n",
      "[notice] A new release of pip is available: 23.2 -> 23.2.1\n",
      "[notice] To update, run: python.exe -m pip install --upgrade pip\n"
     ]
    }
   ],
   "source": [
    "pip install xgboost"
   ]
  },
  {
   "cell_type": "code",
   "execution_count": 55,
   "id": "f5b07563",
   "metadata": {},
   "outputs": [],
   "source": [
    "import xgboost as xgb"
   ]
  },
  {
   "cell_type": "code",
   "execution_count": 56,
   "id": "2e55e324",
   "metadata": {},
   "outputs": [],
   "source": [
    "params = {\n",
    "    'objective': 'binary:logistic', \n",
    "    'eta': 0.1,  \n",
    "    'max_depth': 4,  \n",
    "    'n_estimators': 100 \n",
    "}\n",
    "model2 = xgb.XGBClassifier(**params)\n"
   ]
  },
  {
   "cell_type": "code",
   "execution_count": 57,
   "id": "189b9bd0",
   "metadata": {},
   "outputs": [],
   "source": [
    "model2.fit(X_train, y_train)\n",
    "\n",
    "\n",
    "y_pred2 = model.predict(X_test)"
   ]
  },
  {
   "cell_type": "code",
   "execution_count": 58,
   "id": "2a7951f9",
   "metadata": {},
   "outputs": [
    {
     "name": "stdout",
     "output_type": "stream",
     "text": [
      "Accuracy: 0.9125248508946322\n"
     ]
    }
   ],
   "source": [
    "accuracy2 = accuracy_score(y_test, y_pred2)\n",
    "print(\"Accuracy:\", accuracy2)"
   ]
  },
  {
   "cell_type": "code",
   "execution_count": 59,
   "id": "d489d576",
   "metadata": {
    "scrolled": false
   },
   "outputs": [
    {
     "data": {
      "text/plain": [
       "array([[414,  15],\n",
       "       [ 29,  45]], dtype=int64)"
      ]
     },
     "execution_count": 59,
     "metadata": {},
     "output_type": "execute_result"
    }
   ],
   "source": [
    "confusion_matrix(y_test, y_pred2)"
   ]
  },
  {
   "cell_type": "code",
   "execution_count": 60,
   "id": "3f4c7090",
   "metadata": {},
   "outputs": [
    {
     "data": {
      "text/plain": [
       "0.0874751491053678"
      ]
     },
     "execution_count": 60,
     "metadata": {},
     "output_type": "execute_result"
    }
   ],
   "source": [
    "r2_2 = r2_score(y_test, y_pred2)\n",
    "mse2 = mean_squared_error(y_test, y_pred2)\n",
    "mse2"
   ]
  },
  {
   "cell_type": "code",
   "execution_count": 61,
   "id": "f8f3e507",
   "metadata": {},
   "outputs": [
    {
     "data": {
      "text/plain": [
       "0.30284130284130284"
      ]
     },
     "execution_count": 61,
     "metadata": {},
     "output_type": "execute_result"
    }
   ],
   "source": [
    "r2_2"
   ]
  },
  {
   "cell_type": "code",
   "execution_count": 71,
   "id": "b5a9467d",
   "metadata": {
    "scrolled": true
   },
   "outputs": [
    {
     "name": "stdout",
     "output_type": "stream",
     "text": [
      "Accuracy: 0.9125248508946322\n",
      "Classification Report:\n",
      "               precision    recall  f1-score   support\n",
      "\n",
      "           0       0.93      0.97      0.95       429\n",
      "           1       0.75      0.61      0.67        74\n",
      "\n",
      "    accuracy                           0.91       503\n",
      "   macro avg       0.84      0.79      0.81       503\n",
      "weighted avg       0.91      0.91      0.91       503\n",
      "\n"
     ]
    }
   ],
   "source": [
    "accuracy2 = accuracy_score(y_test, y_pred2)\n",
    "print(\"Accuracy:\", accuracy2)\n",
    "\n",
    "report2 = classification_report(y_test, y_pred2)\n",
    "print(\"Classification Report:\\n\", report2)"
   ]
  },
  {
   "cell_type": "code",
   "execution_count": 83,
   "id": "8776044a",
   "metadata": {},
   "outputs": [],
   "source": [
    "fpr2, tpr2, thresholds1 = roc_curve(y_test, y_pred2)\n",
    "roc_auc2 = roc_auc_score(y_test, y_pred2)"
   ]
  },
  {
   "cell_type": "code",
   "execution_count": 84,
   "id": "7d9cc31b",
   "metadata": {},
   "outputs": [
    {
     "data": {
      "text/plain": [
       "0.7865715365715366"
      ]
     },
     "execution_count": 84,
     "metadata": {},
     "output_type": "execute_result"
    }
   ],
   "source": [
    "roc_auc2"
   ]
  },
  {
   "cell_type": "code",
   "execution_count": 91,
   "id": "d25ffa25",
   "metadata": {},
   "outputs": [
    {
     "data": {
      "image/png": "[encoded data removed]",
      "text/plain": [
       "<Figure size 640x480 with 1 Axes>"
      ]
     },
     "metadata": {},
     "output_type": "display_data"
    }
   ],
   "source": [
    "plt.figure()\n",
    "plt.plot(fpr2, tpr2, color='red', lw=3, label='ROC curve (area = %0.2f)' % roc_auc2)\n",
    "plt.plot([0, 1], [0, 1], color='navy', lw=2, linestyle='--')\n",
    "plt.xlim([0.0, 1.0])\n",
    "plt.ylim([0.0, 1.05])\n",
    "plt.xlabel('False Positive Rate')\n",
    "plt.ylabel('True Positive Rate')\n",
    "plt.title('Receiver Operating Characteristic (ROC)')\n",
    "plt.legend(loc='lower right')\n",
    "plt.show()"
   ]
  },
  {
   "cell_type": "code",
   "execution_count": null,
   "id": "630e957c",
   "metadata": {},
   "outputs": [],
   "source": []
  }
 ],
 "metadata": {
  "kernelspec": {
   "display_name": "Python 3 (ipykernel)",
   "language": "python",
   "name": "python3"
  },
  "language_info": {
   "codemirror_mode": {
    "name": "ipython",
    "version": 3
   },
   "file_extension": ".py",
   "mimetype": "text/x-python",
   "name": "python",
   "nbconvert_exporter": "python",
   "pygments_lexer": "ipython3",
   "version": "3.10.9"
  },
  "papermill": {
   "default_parameters": {},
   "duration": 16.13513,
   "end_time": "2023-03-19T20:20:20.181617",
   "environment_variables": {},
   "exception": null,
   "input_path": "__notebook__.ipynb",
   "output_path": "__notebook__.ipynb",
   "parameters": {},
   "start_time": "2023-03-19T20:20:04.046487",
   "version": "2.4.0"
  }
 },
 "nbformat": 4,
 "nbformat_minor": 5
}
